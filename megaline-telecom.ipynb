{
 "cells": [
  {
   "cell_type": "markdown",
   "metadata": {
    "id": "3rYiDeEH0q0f"
   },
   "source": [
    "# 📱 **¿Cuál es la mejor tarifa?**\n",
    "---"
   ]
  },
  {
   "cell_type": "markdown",
   "metadata": {},
   "source": [
    "## **Introducción**\n"
   ]
  },
  {
   "cell_type": "markdown",
   "metadata": {},
   "source": [
    "Megaline es un operador de telecomunicaciones que ofrece a sus clientes dos tarifas de prepago: Surf y Ultimate. Actualmente, el departamento comercial busca identificar cuál de estas tarifas resulta más rentable, con el objetivo de optimizar la asignación del presupuesto publicitario.\n",
    "\n",
    "Como parte de este análisis, se cuenta con un conjunto de datos preliminar que incluye información de 500 clientes. Estos registros contienen detalles sobre los usuarios, su lugar de residencia, la tarifa contratada y el uso de servicios durante 2018, incluyendo llamadas realizadas y mensajes de texto enviados.\n",
    "\n",
    "A partir de esta información, se analizará el comportamiento de los clientes y se evaluará cuál de las dos tarifas genera mayores ingresos para la empresa, proporcionando así una base sólida para la toma de decisiones estratégicas."
   ]
  },
  {
   "cell_type": "markdown",
   "metadata": {},
   "source": [
    "### 🎯**Objetivo**"
   ]
  },
  {
   "cell_type": "markdown",
   "metadata": {
    "id": "VNddPNRQ0q0w"
   },
   "source": [
    "El objetivo de este proyecto es determinar cuál de las dos tarifas de prepago genera mayores ingresos para Megaline, con el fin de orientar de manera más eficiente el presupuesto destinado a publicidad.\n",
    "\n",
    "Para alcanzar esta meta, se llevará a cabo un análisis estructurado que incluye las siguientes etapas clave:\n",
    "\n",
    "- **Carga y exploración de los datos:** familiarización con la estructura y contenido del conjunto de datos.\n",
    "\n",
    "- **Limpieza de datos:** detección y corrección de errores como valores ausentes o duplicados.\n",
    "\n",
    "- **Ingeniería de características:** enriquecimiento del dataset mediante la creación de nuevas variables a partir de la información existente.\n",
    "\n",
    "- **Análisis exploratorio:** estudio del comportamiento de los usuarios según el tipo de tarifa.\n",
    "\n",
    "- **Pruebas de hipótesis estadísticas:** formulación y validación de suposiciones sobre las diferencias entre planes.\n",
    "\n",
    "- **Conclusión:** identificación del plan más rentable para la empresa.\n",
    "\n",
    "Este enfoque permitirá a Megaline tomar decisiones basadas en datos, optimizando sus estrategias comerciales y de marketing.\n",
    "\n"
   ]
  },
  {
   "cell_type": "markdown",
   "metadata": {
    "id": "MQi4IPy70q0y"
   },
   "source": [
    "## ⏯️**Inicialización**\n",
    "---"
   ]
  },
  {
   "cell_type": "code",
   "execution_count": 1,
   "metadata": {
    "id": "MtYIuBxu0q0z"
   },
   "outputs": [],
   "source": [
    "# Cargar todas las librerías\n",
    "import pandas as pd\n",
    "import numpy as np\n",
    "from matplotlib import pyplot as plt\n",
    "import seaborn as sns\n",
    "from scipy import stats"
   ]
  },
  {
   "cell_type": "code",
   "execution_count": 2,
   "metadata": {
    "id": "CCqPW7rS0q01"
   },
   "outputs": [],
   "source": [
    "# Carga los archivos de datos en diferentes DataFrames\n",
    "local = 'datasets/'\n",
    "# Modificar variable de deacuerdo a plataforma\n",
    "users = pd.read_csv(local + 'megaline_users.csv')\n",
    "calls = pd.read_csv(local + 'megaline_calls.csv')\n",
    "messages = pd.read_csv(local + 'megaline_messages.csv')\n",
    "internet = pd.read_csv(local + 'megaline_internet.csv')\n",
    "plans = pd.read_csv(local + 'megaline_plans.csv')"
   ]
  },
  {
   "cell_type": "markdown",
   "metadata": {
    "id": "69qqoJ3r0q01"
   },
   "source": [
    "## 🛠️**Preparar los datos**\n",
    "---"
   ]
  },
  {
   "cell_type": "markdown",
   "metadata": {
    "id": "ohBhimvH0q01"
   },
   "source": [
    "### 🧾 **Dataframe `plans` (Tarifas)**"
   ]
  },
  {
   "cell_type": "code",
   "execution_count": 3,
   "metadata": {
    "id": "GptqP3Q40q02"
   },
   "outputs": [
    {
     "name": "stdout",
     "output_type": "stream",
     "text": [
      "<class 'pandas.core.frame.DataFrame'>\n",
      "RangeIndex: 2 entries, 0 to 1\n",
      "Data columns (total 8 columns):\n",
      " #   Column                 Non-Null Count  Dtype  \n",
      "---  ------                 --------------  -----  \n",
      " 0   messages_included      2 non-null      int64  \n",
      " 1   mb_per_month_included  2 non-null      int64  \n",
      " 2   minutes_included       2 non-null      int64  \n",
      " 3   usd_monthly_pay        2 non-null      int64  \n",
      " 4   usd_per_gb             2 non-null      int64  \n",
      " 5   usd_per_message        2 non-null      float64\n",
      " 6   usd_per_minute         2 non-null      float64\n",
      " 7   plan_name              2 non-null      object \n",
      "dtypes: float64(2), int64(5), object(1)\n",
      "memory usage: 260.0+ bytes\n",
      "None\n"
     ]
    }
   ],
   "source": [
    "# Imprime la información general/resumida sobre el DataFrame de las tarifas\n",
    "print(plans.info())"
   ]
  },
  {
   "cell_type": "code",
   "execution_count": 4,
   "metadata": {
    "id": "64xzjwL70q02"
   },
   "outputs": [
    {
     "data": {
      "text/html": [
       "<div>\n",
       "<style scoped>\n",
       "    .dataframe tbody tr th:only-of-type {\n",
       "        vertical-align: middle;\n",
       "    }\n",
       "\n",
       "    .dataframe tbody tr th {\n",
       "        vertical-align: top;\n",
       "    }\n",
       "\n",
       "    .dataframe thead th {\n",
       "        text-align: right;\n",
       "    }\n",
       "</style>\n",
       "<table border=\"1\" class=\"dataframe\">\n",
       "  <thead>\n",
       "    <tr style=\"text-align: right;\">\n",
       "      <th></th>\n",
       "      <th>messages_included</th>\n",
       "      <th>mb_per_month_included</th>\n",
       "      <th>minutes_included</th>\n",
       "      <th>usd_monthly_pay</th>\n",
       "      <th>usd_per_gb</th>\n",
       "      <th>usd_per_message</th>\n",
       "      <th>usd_per_minute</th>\n",
       "      <th>plan_name</th>\n",
       "    </tr>\n",
       "  </thead>\n",
       "  <tbody>\n",
       "    <tr>\n",
       "      <th>0</th>\n",
       "      <td>50</td>\n",
       "      <td>15360</td>\n",
       "      <td>500</td>\n",
       "      <td>20</td>\n",
       "      <td>10</td>\n",
       "      <td>0.03</td>\n",
       "      <td>0.03</td>\n",
       "      <td>surf</td>\n",
       "    </tr>\n",
       "    <tr>\n",
       "      <th>1</th>\n",
       "      <td>1000</td>\n",
       "      <td>30720</td>\n",
       "      <td>3000</td>\n",
       "      <td>70</td>\n",
       "      <td>7</td>\n",
       "      <td>0.01</td>\n",
       "      <td>0.01</td>\n",
       "      <td>ultimate</td>\n",
       "    </tr>\n",
       "  </tbody>\n",
       "</table>\n",
       "</div>"
      ],
      "text/plain": [
       "   messages_included  mb_per_month_included  minutes_included  \\\n",
       "0                 50                  15360               500   \n",
       "1               1000                  30720              3000   \n",
       "\n",
       "   usd_monthly_pay  usd_per_gb  usd_per_message  usd_per_minute plan_name  \n",
       "0               20          10             0.03            0.03      surf  \n",
       "1               70           7             0.01            0.01  ultimate  "
      ]
     },
     "metadata": {},
     "output_type": "display_data"
    }
   ],
   "source": [
    "# Imprime una muestra de los datos para las tarifas\n",
    "display(plans)"
   ]
  },
  {
   "cell_type": "markdown",
   "metadata": {
    "id": "mEc_3_hs0q02"
   },
   "source": [
    ">**Observaciones:**\n",
    ">\n",
    ">- Se observa que la tabla de planes o tarifas, no contiene valores nulos o duplicados, es una tabla con solo 2 registros (uno para cada plan).\n",
    ">\n",
    ">- En primer lugar, considero que la columna `plan_name` debería ser la primera en presentarse para facilitar la lectura y entendimiento de la tabla.\n",
    ">\n",
    ">- Además, las columnas que tratan con datos de moneda como `usd_monthly_pay` y `usd_per_gb` deberían ser del tipo float para mantener homogeneidad con las columnas `usd_per_message` y `usd_per_minute`.\n",
    ">\n",
    ">- La columna `mb_per_month_included` podría reducir su nombre a solo `mb_included` ya que todo es mensual."
   ]
  },
  {
   "cell_type": "markdown",
   "metadata": {
    "id": "R3C05i1l0q03"
   },
   "source": [
    "##### Corregir datos"
   ]
  },
  {
   "cell_type": "code",
   "execution_count": 5,
   "metadata": {
    "id": "Y7SVmjGn0q03"
   },
   "outputs": [],
   "source": [
    "# Re-ordenando columnas\n",
    "plans = plans[['plan_name', 'usd_monthly_pay', 'messages_included', 'mb_per_month_included', 'minutes_included', 'usd_per_message', 'usd_per_gb', 'usd_per_minute']]\n",
    "# Cambiando tipo de dato a Float\n",
    "plans[['usd_monthly_pay', 'usd_per_gb']] = plans[['usd_monthly_pay', 'usd_per_gb']].astype('float')"
   ]
  },
  {
   "cell_type": "code",
   "execution_count": 6,
   "metadata": {},
   "outputs": [
    {
     "name": "stdout",
     "output_type": "stream",
     "text": [
      "<class 'pandas.core.frame.DataFrame'>\n",
      "RangeIndex: 2 entries, 0 to 1\n",
      "Data columns (total 8 columns):\n",
      " #   Column             Non-Null Count  Dtype  \n",
      "---  ------             --------------  -----  \n",
      " 0   plan_name          2 non-null      object \n",
      " 1   usd_monthly_pay    2 non-null      float64\n",
      " 2   messages_included  2 non-null      int64  \n",
      " 3   mb_included        2 non-null      int64  \n",
      " 4   minutes_included   2 non-null      int64  \n",
      " 5   usd_per_message    2 non-null      float64\n",
      " 6   usd_per_gb         2 non-null      float64\n",
      " 7   usd_per_minute     2 non-null      float64\n",
      "dtypes: float64(4), int64(3), object(1)\n",
      "memory usage: 260.0+ bytes\n",
      "None\n"
     ]
    }
   ],
   "source": [
    "# Renombrando columna\n",
    "plans.rename(columns={'mb_per_month_included':'mb_included'}, inplace=True)\n",
    "\n",
    "print(plans.info())"
   ]
  },
  {
   "cell_type": "markdown",
   "metadata": {
    "id": "1n2X6WXf0q04"
   },
   "source": [
    "### 🧾 **Dataframe `users` (Usuarios/as)** \n"
   ]
  },
  {
   "cell_type": "code",
   "execution_count": 7,
   "metadata": {
    "id": "2NgjWFqx0q05"
   },
   "outputs": [
    {
     "name": "stdout",
     "output_type": "stream",
     "text": [
      "<class 'pandas.core.frame.DataFrame'>\n",
      "RangeIndex: 500 entries, 0 to 499\n",
      "Data columns (total 8 columns):\n",
      " #   Column      Non-Null Count  Dtype \n",
      "---  ------      --------------  ----- \n",
      " 0   user_id     500 non-null    int64 \n",
      " 1   first_name  500 non-null    object\n",
      " 2   last_name   500 non-null    object\n",
      " 3   age         500 non-null    int64 \n",
      " 4   city        500 non-null    object\n",
      " 5   reg_date    500 non-null    object\n",
      " 6   plan        500 non-null    object\n",
      " 7   churn_date  34 non-null     object\n",
      "dtypes: int64(2), object(6)\n",
      "memory usage: 31.4+ KB\n",
      "None\n"
     ]
    }
   ],
   "source": [
    "# Imprime la información general/resumida sobre el DataFrame de usuarios\n",
    "print(users.info())"
   ]
  },
  {
   "cell_type": "code",
   "execution_count": 8,
   "metadata": {
    "id": "1IN1L9uh0q05"
   },
   "outputs": [
    {
     "data": {
      "text/html": [
       "<div>\n",
       "<style scoped>\n",
       "    .dataframe tbody tr th:only-of-type {\n",
       "        vertical-align: middle;\n",
       "    }\n",
       "\n",
       "    .dataframe tbody tr th {\n",
       "        vertical-align: top;\n",
       "    }\n",
       "\n",
       "    .dataframe thead th {\n",
       "        text-align: right;\n",
       "    }\n",
       "</style>\n",
       "<table border=\"1\" class=\"dataframe\">\n",
       "  <thead>\n",
       "    <tr style=\"text-align: right;\">\n",
       "      <th></th>\n",
       "      <th>user_id</th>\n",
       "      <th>first_name</th>\n",
       "      <th>last_name</th>\n",
       "      <th>age</th>\n",
       "      <th>city</th>\n",
       "      <th>reg_date</th>\n",
       "      <th>plan</th>\n",
       "      <th>churn_date</th>\n",
       "    </tr>\n",
       "  </thead>\n",
       "  <tbody>\n",
       "    <tr>\n",
       "      <th>236</th>\n",
       "      <td>1236</td>\n",
       "      <td>Odell</td>\n",
       "      <td>Juarez</td>\n",
       "      <td>74</td>\n",
       "      <td>Minneapolis-St. Paul-Bloomington, MN-WI MSA</td>\n",
       "      <td>2018-04-04</td>\n",
       "      <td>ultimate</td>\n",
       "      <td>NaN</td>\n",
       "    </tr>\n",
       "    <tr>\n",
       "      <th>443</th>\n",
       "      <td>1443</td>\n",
       "      <td>Genaro</td>\n",
       "      <td>Quinn</td>\n",
       "      <td>58</td>\n",
       "      <td>Atlanta-Sandy Springs-Roswell, GA MSA</td>\n",
       "      <td>2018-03-11</td>\n",
       "      <td>surf</td>\n",
       "      <td>NaN</td>\n",
       "    </tr>\n",
       "    <tr>\n",
       "      <th>145</th>\n",
       "      <td>1145</td>\n",
       "      <td>Venice</td>\n",
       "      <td>Brooks</td>\n",
       "      <td>29</td>\n",
       "      <td>San Jose-Sunnyvale-Santa Clara, CA MSA</td>\n",
       "      <td>2018-04-12</td>\n",
       "      <td>surf</td>\n",
       "      <td>NaN</td>\n",
       "    </tr>\n",
       "    <tr>\n",
       "      <th>484</th>\n",
       "      <td>1484</td>\n",
       "      <td>Delpha</td>\n",
       "      <td>Baldwin</td>\n",
       "      <td>46</td>\n",
       "      <td>Dallas-Fort Worth-Arlington, TX MSA</td>\n",
       "      <td>2018-11-29</td>\n",
       "      <td>surf</td>\n",
       "      <td>NaN</td>\n",
       "    </tr>\n",
       "    <tr>\n",
       "      <th>483</th>\n",
       "      <td>1483</td>\n",
       "      <td>Miguel</td>\n",
       "      <td>Farrell</td>\n",
       "      <td>35</td>\n",
       "      <td>Chicago-Naperville-Elgin, IL-IN-WI MSA</td>\n",
       "      <td>2018-04-25</td>\n",
       "      <td>surf</td>\n",
       "      <td>NaN</td>\n",
       "    </tr>\n",
       "  </tbody>\n",
       "</table>\n",
       "</div>"
      ],
      "text/plain": [
       "     user_id first_name last_name  age  \\\n",
       "236     1236      Odell    Juarez   74   \n",
       "443     1443     Genaro     Quinn   58   \n",
       "145     1145     Venice    Brooks   29   \n",
       "484     1484     Delpha   Baldwin   46   \n",
       "483     1483     Miguel   Farrell   35   \n",
       "\n",
       "                                            city    reg_date      plan  \\\n",
       "236  Minneapolis-St. Paul-Bloomington, MN-WI MSA  2018-04-04  ultimate   \n",
       "443        Atlanta-Sandy Springs-Roswell, GA MSA  2018-03-11      surf   \n",
       "145       San Jose-Sunnyvale-Santa Clara, CA MSA  2018-04-12      surf   \n",
       "484          Dallas-Fort Worth-Arlington, TX MSA  2018-11-29      surf   \n",
       "483       Chicago-Naperville-Elgin, IL-IN-WI MSA  2018-04-25      surf   \n",
       "\n",
       "    churn_date  \n",
       "236        NaN  \n",
       "443        NaN  \n",
       "145        NaN  \n",
       "484        NaN  \n",
       "483        NaN  "
      ]
     },
     "metadata": {},
     "output_type": "display_data"
    }
   ],
   "source": [
    "# Imprime una muestra de datos para usuarios\n",
    "display(users.sample(5))"
   ]
  },
  {
   "cell_type": "markdown",
   "metadata": {
    "id": "dCZoUq4f0q06"
   },
   "source": [
    ">**Observaciones:**\n",
    ">\n",
    ">Se observa que la tabla consta de 8 columnas, que en su mayoría no presentan valores ausentes. El único caso en el que si se presentan datos auséntes es la columna `churn_date`, en donde cada valor `NaN` significa que el usuario sigue activo en la plataforma.\n",
    ">\n",
    ">- La columna `user_id` debe cambiar del tipo de `int` a `object`.\n",
    ">\n",
    ">- Las columnas `reg_date` y `churn_date` deben cambiar del tipo `object` a `datetime`.\n",
    ">\n",
    ">- Las columnas `first_name` y `last_name` se pueden fusionar para contar con un dataset mas óptimo, no tiene caso que estén separados.\n",
    ">\n",
    ">- La columna `plan` puede ir después de `user_id` para mejor lectura y entendimiento de la tabla.\n",
    ">\n",
    ">- Cambiar el nombre de la columna `plan` por `plan_name` para conservar homogeneidad entre tablas.\n"
   ]
  },
  {
   "cell_type": "markdown",
   "metadata": {
    "id": "BX5FQh_I0q06"
   },
   "source": [
    "##### Corregir los datos"
   ]
  },
  {
   "cell_type": "code",
   "execution_count": 9,
   "metadata": {},
   "outputs": [],
   "source": [
    "# Cambiando tipo de dato en columna 'user_id'\n",
    "users['user_id'] = users['user_id'].astype('object')\n",
    "\n",
    "# Cambiando tipo de dato en columnas 'reg_date' y 'churn_date'\n",
    "users['reg_date'] = pd.to_datetime(users['reg_date'], format='%Y-%m-%d')\n",
    "users['churn_date'] = pd.to_datetime(users['churn_date'], format='%Y-%m-%d')"
   ]
  },
  {
   "cell_type": "code",
   "execution_count": 10,
   "metadata": {},
   "outputs": [],
   "source": [
    "# Fusionando 'first_name' y 'last_name'\n",
    "users['first_name'] = users['first_name'] + ' ' + users['last_name']\n",
    "# Renombrando columna a 'full_name'\n",
    "users.rename(columns={'first_name':'full_name'}, inplace=True)\n",
    "# Eliminando columna 'last_name'\n",
    "users = users.drop('last_name', axis=1)"
   ]
  },
  {
   "cell_type": "code",
   "execution_count": 11,
   "metadata": {},
   "outputs": [
    {
     "name": "stdout",
     "output_type": "stream",
     "text": [
      "<class 'pandas.core.frame.DataFrame'>\n",
      "RangeIndex: 500 entries, 0 to 499\n",
      "Data columns (total 7 columns):\n",
      " #   Column      Non-Null Count  Dtype         \n",
      "---  ------      --------------  -----         \n",
      " 0   user_id     500 non-null    object        \n",
      " 1   full_name   500 non-null    object        \n",
      " 2   age         500 non-null    int64         \n",
      " 3   city        500 non-null    object        \n",
      " 4   reg_date    500 non-null    datetime64[ns]\n",
      " 5   plan        500 non-null    object        \n",
      " 6   churn_date  34 non-null     datetime64[ns]\n",
      "dtypes: datetime64[ns](2), int64(1), object(4)\n",
      "memory usage: 27.5+ KB\n",
      "None\n"
     ]
    }
   ],
   "source": [
    "print(users.info())"
   ]
  },
  {
   "cell_type": "markdown",
   "metadata": {
    "id": "ycwuARJp0q07"
   },
   "source": [
    "##### Enriquecer los datos"
   ]
  },
  {
   "cell_type": "code",
   "execution_count": 12,
   "metadata": {
    "id": "iq0AaBS90q08"
   },
   "outputs": [],
   "source": [
    "# Separar la columna de 'city'\n",
    "users[['city', 'zone']] = users['city'].str.split(',', expand=True)"
   ]
  },
  {
   "cell_type": "code",
   "execution_count": 13,
   "metadata": {},
   "outputs": [],
   "source": [
    "#Re-ordenar columnas\n",
    "users = users[['user_id', 'plan', 'full_name', 'age', 'city', 'zone', 'reg_date','churn_date']]\n",
    "# Eliminar espacios\n",
    "users['zone'] = users['zone'].str.strip()"
   ]
  },
  {
   "cell_type": "code",
   "execution_count": 14,
   "metadata": {},
   "outputs": [
    {
     "data": {
      "text/html": [
       "<div>\n",
       "<style scoped>\n",
       "    .dataframe tbody tr th:only-of-type {\n",
       "        vertical-align: middle;\n",
       "    }\n",
       "\n",
       "    .dataframe tbody tr th {\n",
       "        vertical-align: top;\n",
       "    }\n",
       "\n",
       "    .dataframe thead th {\n",
       "        text-align: right;\n",
       "    }\n",
       "</style>\n",
       "<table border=\"1\" class=\"dataframe\">\n",
       "  <thead>\n",
       "    <tr style=\"text-align: right;\">\n",
       "      <th></th>\n",
       "      <th>user_id</th>\n",
       "      <th>plan_name</th>\n",
       "      <th>full_name</th>\n",
       "      <th>age</th>\n",
       "      <th>city</th>\n",
       "      <th>zone</th>\n",
       "      <th>reg_date</th>\n",
       "      <th>churn_date</th>\n",
       "    </tr>\n",
       "  </thead>\n",
       "  <tbody>\n",
       "    <tr>\n",
       "      <th>0</th>\n",
       "      <td>1000</td>\n",
       "      <td>ultimate</td>\n",
       "      <td>Anamaria Bauer</td>\n",
       "      <td>45</td>\n",
       "      <td>Atlanta-Sandy Springs-Roswell</td>\n",
       "      <td>GA MSA</td>\n",
       "      <td>2018-12-24</td>\n",
       "      <td>NaT</td>\n",
       "    </tr>\n",
       "    <tr>\n",
       "      <th>1</th>\n",
       "      <td>1001</td>\n",
       "      <td>surf</td>\n",
       "      <td>Mickey Wilkerson</td>\n",
       "      <td>28</td>\n",
       "      <td>Seattle-Tacoma-Bellevue</td>\n",
       "      <td>WA MSA</td>\n",
       "      <td>2018-08-13</td>\n",
       "      <td>NaT</td>\n",
       "    </tr>\n",
       "    <tr>\n",
       "      <th>2</th>\n",
       "      <td>1002</td>\n",
       "      <td>surf</td>\n",
       "      <td>Carlee Hoffman</td>\n",
       "      <td>36</td>\n",
       "      <td>Las Vegas-Henderson-Paradise</td>\n",
       "      <td>NV MSA</td>\n",
       "      <td>2018-10-21</td>\n",
       "      <td>NaT</td>\n",
       "    </tr>\n",
       "    <tr>\n",
       "      <th>3</th>\n",
       "      <td>1003</td>\n",
       "      <td>surf</td>\n",
       "      <td>Reynaldo Jenkins</td>\n",
       "      <td>52</td>\n",
       "      <td>Tulsa</td>\n",
       "      <td>OK MSA</td>\n",
       "      <td>2018-01-28</td>\n",
       "      <td>NaT</td>\n",
       "    </tr>\n",
       "    <tr>\n",
       "      <th>4</th>\n",
       "      <td>1004</td>\n",
       "      <td>surf</td>\n",
       "      <td>Leonila Thompson</td>\n",
       "      <td>40</td>\n",
       "      <td>Seattle-Tacoma-Bellevue</td>\n",
       "      <td>WA MSA</td>\n",
       "      <td>2018-05-23</td>\n",
       "      <td>NaT</td>\n",
       "    </tr>\n",
       "  </tbody>\n",
       "</table>\n",
       "</div>"
      ],
      "text/plain": [
       "  user_id plan_name         full_name  age                           city  \\\n",
       "0    1000  ultimate    Anamaria Bauer   45  Atlanta-Sandy Springs-Roswell   \n",
       "1    1001      surf  Mickey Wilkerson   28        Seattle-Tacoma-Bellevue   \n",
       "2    1002      surf    Carlee Hoffman   36   Las Vegas-Henderson-Paradise   \n",
       "3    1003      surf  Reynaldo Jenkins   52                          Tulsa   \n",
       "4    1004      surf  Leonila Thompson   40        Seattle-Tacoma-Bellevue   \n",
       "\n",
       "     zone   reg_date churn_date  \n",
       "0  GA MSA 2018-12-24        NaT  \n",
       "1  WA MSA 2018-08-13        NaT  \n",
       "2  NV MSA 2018-10-21        NaT  \n",
       "3  OK MSA 2018-01-28        NaT  \n",
       "4  WA MSA 2018-05-23        NaT  "
      ]
     },
     "metadata": {},
     "output_type": "display_data"
    }
   ],
   "source": [
    "# Cambiando nombre de la columna 'plan' a 'plan_name'\n",
    "users.rename(columns={'plan':'plan_name'}, inplace=True)\n",
    "display(users.head())"
   ]
  },
  {
   "cell_type": "markdown",
   "metadata": {
    "id": "o7MeKCid0q08"
   },
   "source": [
    "### 🧾 **Dataframe `calls` (Llamadas)** "
   ]
  },
  {
   "cell_type": "code",
   "execution_count": 15,
   "metadata": {
    "id": "6dDlnoDm0q08"
   },
   "outputs": [
    {
     "name": "stdout",
     "output_type": "stream",
     "text": [
      "<class 'pandas.core.frame.DataFrame'>\n",
      "RangeIndex: 137735 entries, 0 to 137734\n",
      "Data columns (total 4 columns):\n",
      " #   Column     Non-Null Count   Dtype  \n",
      "---  ------     --------------   -----  \n",
      " 0   id         137735 non-null  object \n",
      " 1   user_id    137735 non-null  int64  \n",
      " 2   call_date  137735 non-null  object \n",
      " 3   duration   137735 non-null  float64\n",
      "dtypes: float64(1), int64(1), object(2)\n",
      "memory usage: 4.2+ MB\n",
      "None\n"
     ]
    }
   ],
   "source": [
    "# Imprime la información general/resumida sobre el DataFrame de las llamadas\n",
    "print(calls.info())"
   ]
  },
  {
   "cell_type": "code",
   "execution_count": 16,
   "metadata": {
    "id": "kuh1vlNB0q09"
   },
   "outputs": [
    {
     "data": {
      "text/html": [
       "<div>\n",
       "<style scoped>\n",
       "    .dataframe tbody tr th:only-of-type {\n",
       "        vertical-align: middle;\n",
       "    }\n",
       "\n",
       "    .dataframe tbody tr th {\n",
       "        vertical-align: top;\n",
       "    }\n",
       "\n",
       "    .dataframe thead th {\n",
       "        text-align: right;\n",
       "    }\n",
       "</style>\n",
       "<table border=\"1\" class=\"dataframe\">\n",
       "  <thead>\n",
       "    <tr style=\"text-align: right;\">\n",
       "      <th></th>\n",
       "      <th>id</th>\n",
       "      <th>user_id</th>\n",
       "      <th>call_date</th>\n",
       "      <th>duration</th>\n",
       "    </tr>\n",
       "  </thead>\n",
       "  <tbody>\n",
       "    <tr>\n",
       "      <th>129013</th>\n",
       "      <td>1465_189</td>\n",
       "      <td>1465</td>\n",
       "      <td>2018-08-19</td>\n",
       "      <td>2.61</td>\n",
       "    </tr>\n",
       "    <tr>\n",
       "      <th>128840</th>\n",
       "      <td>1464_474</td>\n",
       "      <td>1464</td>\n",
       "      <td>2018-11-13</td>\n",
       "      <td>0.30</td>\n",
       "    </tr>\n",
       "    <tr>\n",
       "      <th>96541</th>\n",
       "      <td>1343_235</td>\n",
       "      <td>1343</td>\n",
       "      <td>2018-10-21</td>\n",
       "      <td>9.09</td>\n",
       "    </tr>\n",
       "    <tr>\n",
       "      <th>47242</th>\n",
       "      <td>1171_273</td>\n",
       "      <td>1171</td>\n",
       "      <td>2018-02-04</td>\n",
       "      <td>8.64</td>\n",
       "    </tr>\n",
       "    <tr>\n",
       "      <th>102540</th>\n",
       "      <td>1363_153</td>\n",
       "      <td>1363</td>\n",
       "      <td>2018-09-20</td>\n",
       "      <td>9.00</td>\n",
       "    </tr>\n",
       "  </tbody>\n",
       "</table>\n",
       "</div>"
      ],
      "text/plain": [
       "              id  user_id   call_date  duration\n",
       "129013  1465_189     1465  2018-08-19      2.61\n",
       "128840  1464_474     1464  2018-11-13      0.30\n",
       "96541   1343_235     1343  2018-10-21      9.09\n",
       "47242   1171_273     1171  2018-02-04      8.64\n",
       "102540  1363_153     1363  2018-09-20      9.00"
      ]
     },
     "metadata": {},
     "output_type": "display_data"
    }
   ],
   "source": [
    "# Imprime una muestra de datos para las llamadas\n",
    "display(calls.sample(5))"
   ]
  },
  {
   "cell_type": "markdown",
   "metadata": {
    "id": "DOAxYJSx0q09"
   },
   "source": [
    ">**Observaciones:**\n",
    ">\n",
    ">- No existen datos ausentes en la tabla `calls`.\n",
    ">\n",
    ">- El id de la llamada relacionado con el id del usuario que realizó la llamada de acuerdo al siguiente formato: `userId_callId.`\n",
    "\n",
    ">**Correcciones:**\n",
    ">\n",
    ">- La columna `user_id` es de tipo `int` y debe cambiarse a tipo `object`\n",
    ">\n",
    ">- La columna `call_date` es de tipo `object` y debe ser cambiado a tipo `datetime`.\n",
    ">\n",
    ">- De acuerdo con las instrucciones, los valores de la columna `duration` deben ser redondeados hacia arriba. Debido a que \"Para las llamadas, cada llamada individual se redondea: incluso si la llamada duró solo un segundo, se contará como un minuto\".\n",
    ">\n",
    ">- La columna `id` almacena el id propio de cada llamada,se puede renombrar la columna a `call_id` para ser mas claro."
   ]
  },
  {
   "cell_type": "markdown",
   "metadata": {
    "id": "S7hzxmbX0q0-"
   },
   "source": [
    "##### Corregir los datos"
   ]
  },
  {
   "cell_type": "code",
   "execution_count": 17,
   "metadata": {
    "id": "S2r8xA4f0q0-"
   },
   "outputs": [],
   "source": [
    "# Cambiando tipo de dato en la columna 'call_date'\n",
    "calls['call_date'] = pd.to_datetime(calls['call_date'], format='%Y-%m-%d')\n",
    "calls.head()\n",
    "\n",
    "# Cambiando tipo de dato en la columna 'user_id'\n",
    "calls['user_id'] = calls['user_id'].astype('object')"
   ]
  },
  {
   "cell_type": "markdown",
   "metadata": {
    "id": "KrMgTrlG0q0_"
   },
   "source": [
    "##### Enriquecer los datos"
   ]
  },
  {
   "cell_type": "code",
   "execution_count": 18,
   "metadata": {},
   "outputs": [],
   "source": [
    "# Redondeando duración de las llamadas\n",
    "calls['duration'] = calls['duration'].apply(np.ceil)\n",
    "# Convirtiendo la columna 'duration' en tipo int\n",
    "calls['duration'] = calls['duration'].astype('int')"
   ]
  },
  {
   "cell_type": "code",
   "execution_count": 19,
   "metadata": {
    "id": "iZ1avpA_0q0_"
   },
   "outputs": [
    {
     "name": "stdout",
     "output_type": "stream",
     "text": [
      "<class 'pandas.core.frame.DataFrame'>\n",
      "RangeIndex: 137735 entries, 0 to 137734\n",
      "Data columns (total 4 columns):\n",
      " #   Column     Non-Null Count   Dtype         \n",
      "---  ------     --------------   -----         \n",
      " 0   call_id    137735 non-null  object        \n",
      " 1   user_id    137735 non-null  object        \n",
      " 2   call_date  137735 non-null  datetime64[ns]\n",
      " 3   duration   137735 non-null  int64         \n",
      "dtypes: datetime64[ns](1), int64(1), object(2)\n",
      "memory usage: 4.2+ MB\n",
      "None\n"
     ]
    }
   ],
   "source": [
    "# Cambiando el nombre la columna 'id' a 'call_id'\n",
    "calls.rename(columns={'id':'call_id'},inplace=True)\n",
    "\n",
    "print(calls.info())"
   ]
  },
  {
   "cell_type": "markdown",
   "metadata": {
    "id": "mOUZSi180q0_"
   },
   "source": [
    "### 🧾 **Dataframe `messages` (Mensajes)**"
   ]
  },
  {
   "cell_type": "code",
   "execution_count": 20,
   "metadata": {
    "id": "R-bYJpdV0q1A"
   },
   "outputs": [
    {
     "name": "stdout",
     "output_type": "stream",
     "text": [
      "<class 'pandas.core.frame.DataFrame'>\n",
      "RangeIndex: 76051 entries, 0 to 76050\n",
      "Data columns (total 3 columns):\n",
      " #   Column        Non-Null Count  Dtype \n",
      "---  ------        --------------  ----- \n",
      " 0   id            76051 non-null  object\n",
      " 1   user_id       76051 non-null  int64 \n",
      " 2   message_date  76051 non-null  object\n",
      "dtypes: int64(1), object(2)\n",
      "memory usage: 1.7+ MB\n",
      "None\n"
     ]
    }
   ],
   "source": [
    "# Imprime la información general/resumida sobre el DataFrame de los mensajes\n",
    "print(messages.info())"
   ]
  },
  {
   "cell_type": "code",
   "execution_count": 21,
   "metadata": {
    "id": "mCEl2iGE0q1A"
   },
   "outputs": [
    {
     "data": {
      "text/html": [
       "<div>\n",
       "<style scoped>\n",
       "    .dataframe tbody tr th:only-of-type {\n",
       "        vertical-align: middle;\n",
       "    }\n",
       "\n",
       "    .dataframe tbody tr th {\n",
       "        vertical-align: top;\n",
       "    }\n",
       "\n",
       "    .dataframe thead th {\n",
       "        text-align: right;\n",
       "    }\n",
       "</style>\n",
       "<table border=\"1\" class=\"dataframe\">\n",
       "  <thead>\n",
       "    <tr style=\"text-align: right;\">\n",
       "      <th></th>\n",
       "      <th>id</th>\n",
       "      <th>user_id</th>\n",
       "      <th>message_date</th>\n",
       "    </tr>\n",
       "  </thead>\n",
       "  <tbody>\n",
       "    <tr>\n",
       "      <th>53213</th>\n",
       "      <td>1339_347</td>\n",
       "      <td>1339</td>\n",
       "      <td>2018-09-24</td>\n",
       "    </tr>\n",
       "    <tr>\n",
       "      <th>70394</th>\n",
       "      <td>1458_23</td>\n",
       "      <td>1458</td>\n",
       "      <td>2018-10-07</td>\n",
       "    </tr>\n",
       "    <tr>\n",
       "      <th>26408</th>\n",
       "      <td>1159_411</td>\n",
       "      <td>1159</td>\n",
       "      <td>2018-08-25</td>\n",
       "    </tr>\n",
       "    <tr>\n",
       "      <th>22420</th>\n",
       "      <td>1133_565</td>\n",
       "      <td>1133</td>\n",
       "      <td>2018-08-27</td>\n",
       "    </tr>\n",
       "    <tr>\n",
       "      <th>50002</th>\n",
       "      <td>1328_960</td>\n",
       "      <td>1328</td>\n",
       "      <td>2018-08-15</td>\n",
       "    </tr>\n",
       "  </tbody>\n",
       "</table>\n",
       "</div>"
      ],
      "text/plain": [
       "             id  user_id message_date\n",
       "53213  1339_347     1339   2018-09-24\n",
       "70394   1458_23     1458   2018-10-07\n",
       "26408  1159_411     1159   2018-08-25\n",
       "22420  1133_565     1133   2018-08-27\n",
       "50002  1328_960     1328   2018-08-15"
      ]
     },
     "metadata": {},
     "output_type": "display_data"
    }
   ],
   "source": [
    "# Imprime una muestra de datos para los mensajes\n",
    "display(messages.sample(5))"
   ]
  },
  {
   "cell_type": "markdown",
   "metadata": {
    "id": "04xDj7KH0q1A"
   },
   "source": [
    ">**Observaciones:**\n",
    ">\n",
    ">- No existen valores ausentes ni duplicados\n",
    ">\n",
    ">- La columna `user_id` es del tipo `int` y debe cambiar a tipo `object`.\n",
    ">\n",
    ">- La columna `message_date` es del tipo `object` y debe cambiar a tipo `datetime`.\n",
    ">\n",
    ">- La columna `id` hace referencia al id único para cada mensaje, por esto se puede cambiar el nombre a `message_id`."
   ]
  },
  {
   "cell_type": "markdown",
   "metadata": {
    "id": "Sprfak900q1B"
   },
   "source": [
    "##### Corregir los datos"
   ]
  },
  {
   "cell_type": "code",
   "execution_count": 22,
   "metadata": {},
   "outputs": [],
   "source": [
    "# Cambiando 'user_id' de tipo de dato 'int' a 'object'\n",
    "messages['user_id'] = messages['user_id'].astype('object')"
   ]
  },
  {
   "cell_type": "code",
   "execution_count": 23,
   "metadata": {},
   "outputs": [],
   "source": [
    "# Cambiando 'message_date' de tipo de dato 'object' a 'TimeStamp'\n",
    "messages['message_date'] = pd.to_datetime(messages['message_date'], format='%Y-%m-%d')"
   ]
  },
  {
   "cell_type": "markdown",
   "metadata": {
    "id": "HvLid7iD0q1B"
   },
   "source": [
    "##### Enriquecer los datos"
   ]
  },
  {
   "cell_type": "code",
   "execution_count": 24,
   "metadata": {
    "id": "zYEXZac10q1C"
   },
   "outputs": [
    {
     "name": "stdout",
     "output_type": "stream",
     "text": [
      "<class 'pandas.core.frame.DataFrame'>\n",
      "RangeIndex: 76051 entries, 0 to 76050\n",
      "Data columns (total 3 columns):\n",
      " #   Column        Non-Null Count  Dtype         \n",
      "---  ------        --------------  -----         \n",
      " 0   message_id    76051 non-null  object        \n",
      " 1   user_id       76051 non-null  object        \n",
      " 2   message_date  76051 non-null  datetime64[ns]\n",
      "dtypes: datetime64[ns](1), object(2)\n",
      "memory usage: 1.7+ MB\n",
      "None\n"
     ]
    }
   ],
   "source": [
    "# Cambiando nombre de la columna 'id' a 'message_id'\n",
    "messages.rename(columns={'id':'message_id'}, inplace=True)\n",
    "print(messages.info())"
   ]
  },
  {
   "cell_type": "markdown",
   "metadata": {
    "id": "bStkaxn40q1C"
   },
   "source": [
    "### 🧾 **Dataframe `internet` (Internet)**"
   ]
  },
  {
   "cell_type": "code",
   "execution_count": 25,
   "metadata": {
    "id": "e-Uz5qyn0q1C"
   },
   "outputs": [
    {
     "name": "stdout",
     "output_type": "stream",
     "text": [
      "<class 'pandas.core.frame.DataFrame'>\n",
      "RangeIndex: 104825 entries, 0 to 104824\n",
      "Data columns (total 4 columns):\n",
      " #   Column        Non-Null Count   Dtype  \n",
      "---  ------        --------------   -----  \n",
      " 0   id            104825 non-null  object \n",
      " 1   user_id       104825 non-null  int64  \n",
      " 2   session_date  104825 non-null  object \n",
      " 3   mb_used       104825 non-null  float64\n",
      "dtypes: float64(1), int64(1), object(2)\n",
      "memory usage: 3.2+ MB\n",
      "None\n"
     ]
    }
   ],
   "source": [
    "# Imprime la información general/resumida sobre el DataFrame de internet\n",
    "print(internet.info())"
   ]
  },
  {
   "cell_type": "code",
   "execution_count": 26,
   "metadata": {
    "id": "9r3x_XLw0q1C"
   },
   "outputs": [
    {
     "data": {
      "text/html": [
       "<div>\n",
       "<style scoped>\n",
       "    .dataframe tbody tr th:only-of-type {\n",
       "        vertical-align: middle;\n",
       "    }\n",
       "\n",
       "    .dataframe tbody tr th {\n",
       "        vertical-align: top;\n",
       "    }\n",
       "\n",
       "    .dataframe thead th {\n",
       "        text-align: right;\n",
       "    }\n",
       "</style>\n",
       "<table border=\"1\" class=\"dataframe\">\n",
       "  <thead>\n",
       "    <tr style=\"text-align: right;\">\n",
       "      <th></th>\n",
       "      <th>id</th>\n",
       "      <th>user_id</th>\n",
       "      <th>session_date</th>\n",
       "      <th>mb_used</th>\n",
       "    </tr>\n",
       "  </thead>\n",
       "  <tbody>\n",
       "    <tr>\n",
       "      <th>96064</th>\n",
       "      <td>1448_382</td>\n",
       "      <td>1448</td>\n",
       "      <td>2018-11-01</td>\n",
       "      <td>237.29</td>\n",
       "    </tr>\n",
       "    <tr>\n",
       "      <th>92315</th>\n",
       "      <td>1431_2</td>\n",
       "      <td>1431</td>\n",
       "      <td>2018-12-12</td>\n",
       "      <td>203.48</td>\n",
       "    </tr>\n",
       "    <tr>\n",
       "      <th>4003</th>\n",
       "      <td>1022_414</td>\n",
       "      <td>1022</td>\n",
       "      <td>2018-10-02</td>\n",
       "      <td>0.00</td>\n",
       "    </tr>\n",
       "    <tr>\n",
       "      <th>74523</th>\n",
       "      <td>1351_9</td>\n",
       "      <td>1351</td>\n",
       "      <td>2018-11-27</td>\n",
       "      <td>0.00</td>\n",
       "    </tr>\n",
       "    <tr>\n",
       "      <th>72750</th>\n",
       "      <td>1338_152</td>\n",
       "      <td>1338</td>\n",
       "      <td>2018-12-25</td>\n",
       "      <td>461.36</td>\n",
       "    </tr>\n",
       "  </tbody>\n",
       "</table>\n",
       "</div>"
      ],
      "text/plain": [
       "             id  user_id session_date  mb_used\n",
       "96064  1448_382     1448   2018-11-01   237.29\n",
       "92315    1431_2     1431   2018-12-12   203.48\n",
       "4003   1022_414     1022   2018-10-02     0.00\n",
       "74523    1351_9     1351   2018-11-27     0.00\n",
       "72750  1338_152     1338   2018-12-25   461.36"
      ]
     },
     "metadata": {},
     "output_type": "display_data"
    }
   ],
   "source": [
    "# Imprime una muestra de datos para el tráfico de internet\n",
    "display(internet.sample(5))"
   ]
  },
  {
   "cell_type": "markdown",
   "metadata": {
    "id": "EzOG5ik30q1D"
   },
   "source": [
    ">**Observaciones:**\n",
    ">\n",
    ">- No existen datos ausentes ni duplicados.\n",
    ">\n",
    ">- La columna `user_id` es del tipo `int` y debe cambiar a tipo `object`.\n",
    ">\n",
    ">- La columna `session_date` es del tipo `object` y debe cambiar a tipo `datetime`.\n",
    ">\n",
    ">- La columna `id` hace referencia al id único para cada sesión de navegación en la web, por esto se puede cambiar el nombre a `session_id`.\n"
   ]
  },
  {
   "cell_type": "markdown",
   "metadata": {
    "id": "yA0tkPFg0q1D"
   },
   "source": [
    "##### Corregir los datos"
   ]
  },
  {
   "cell_type": "code",
   "execution_count": 27,
   "metadata": {
    "id": "zVeanzdd0q1E"
   },
   "outputs": [],
   "source": [
    "# Cambiando la columna 'user_id' de tipo 'int' a 'object'\n",
    "internet['user_id'] = internet['user_id'].astype('object')"
   ]
  },
  {
   "cell_type": "code",
   "execution_count": 28,
   "metadata": {},
   "outputs": [],
   "source": [
    "# Cambiando la columna 'session_date' de tipo 'object' a 'TimeStamp'\n",
    "internet['session_date'] = pd.to_datetime(internet['session_date'], format='%Y-%m-%d')"
   ]
  },
  {
   "cell_type": "markdown",
   "metadata": {
    "id": "e8_mLF4a0q1E"
   },
   "source": [
    "##### Enriquecer los datos"
   ]
  },
  {
   "cell_type": "code",
   "execution_count": 29,
   "metadata": {
    "id": "ESiYPIEK0q1E"
   },
   "outputs": [
    {
     "name": "stdout",
     "output_type": "stream",
     "text": [
      "<class 'pandas.core.frame.DataFrame'>\n",
      "RangeIndex: 104825 entries, 0 to 104824\n",
      "Data columns (total 4 columns):\n",
      " #   Column        Non-Null Count   Dtype         \n",
      "---  ------        --------------   -----         \n",
      " 0   session_id    104825 non-null  object        \n",
      " 1   user_id       104825 non-null  object        \n",
      " 2   session_date  104825 non-null  datetime64[ns]\n",
      " 3   mb_used       104825 non-null  float64       \n",
      "dtypes: datetime64[ns](1), float64(1), object(2)\n",
      "memory usage: 3.2+ MB\n"
     ]
    }
   ],
   "source": [
    "# Cambiando nombre a la columna 'id' por 'session_id'\n",
    "internet.rename(columns={'id':'session_id'}, inplace=True)\n",
    "\n",
    "internet.info()"
   ]
  },
  {
   "cell_type": "markdown",
   "metadata": {
    "id": "3UA2cqIW0q1E"
   },
   "source": [
    "### 🔎**Estudiar las condiciones de las tarifas**\n"
   ]
  },
  {
   "cell_type": "code",
   "execution_count": 30,
   "metadata": {
    "id": "i409op8p0q1F"
   },
   "outputs": [
    {
     "data": {
      "text/html": [
       "<div>\n",
       "<style scoped>\n",
       "    .dataframe tbody tr th:only-of-type {\n",
       "        vertical-align: middle;\n",
       "    }\n",
       "\n",
       "    .dataframe tbody tr th {\n",
       "        vertical-align: top;\n",
       "    }\n",
       "\n",
       "    .dataframe thead th {\n",
       "        text-align: right;\n",
       "    }\n",
       "</style>\n",
       "<table border=\"1\" class=\"dataframe\">\n",
       "  <thead>\n",
       "    <tr style=\"text-align: right;\">\n",
       "      <th></th>\n",
       "      <th>plan_name</th>\n",
       "      <th>usd_monthly_pay</th>\n",
       "      <th>messages_included</th>\n",
       "      <th>mb_included</th>\n",
       "      <th>minutes_included</th>\n",
       "      <th>usd_per_message</th>\n",
       "      <th>usd_per_gb</th>\n",
       "      <th>usd_per_minute</th>\n",
       "    </tr>\n",
       "  </thead>\n",
       "  <tbody>\n",
       "    <tr>\n",
       "      <th>0</th>\n",
       "      <td>surf</td>\n",
       "      <td>20.0</td>\n",
       "      <td>50</td>\n",
       "      <td>15360</td>\n",
       "      <td>500</td>\n",
       "      <td>0.03</td>\n",
       "      <td>10.0</td>\n",
       "      <td>0.03</td>\n",
       "    </tr>\n",
       "    <tr>\n",
       "      <th>1</th>\n",
       "      <td>ultimate</td>\n",
       "      <td>70.0</td>\n",
       "      <td>1000</td>\n",
       "      <td>30720</td>\n",
       "      <td>3000</td>\n",
       "      <td>0.01</td>\n",
       "      <td>7.0</td>\n",
       "      <td>0.01</td>\n",
       "    </tr>\n",
       "  </tbody>\n",
       "</table>\n",
       "</div>"
      ],
      "text/plain": [
       "  plan_name  usd_monthly_pay  messages_included  mb_included  \\\n",
       "0      surf             20.0                 50        15360   \n",
       "1  ultimate             70.0               1000        30720   \n",
       "\n",
       "   minutes_included  usd_per_message  usd_per_gb  usd_per_minute  \n",
       "0               500             0.03        10.0            0.03  \n",
       "1              3000             0.01         7.0            0.01  "
      ]
     },
     "metadata": {},
     "output_type": "display_data"
    }
   ],
   "source": [
    "# Imprime las condiciones de la tarifa y asegúrate de que te quedan claras\n",
    "display(plans)"
   ]
  },
  {
   "cell_type": "markdown",
   "metadata": {
    "id": "hMR1tP5d0q1F"
   },
   "source": [
    "## 🧩**Agregar datos por usuario**\n",
    "---"
   ]
  },
  {
   "cell_type": "markdown",
   "metadata": {},
   "source": [
    "### **Cálculo de actividad al mes por usuario**"
   ]
  },
  {
   "cell_type": "code",
   "execution_count": 31,
   "metadata": {
    "id": "A332cedB0q1G"
   },
   "outputs": [],
   "source": [
    "# Agrega una columna 'month' a cada DataFrame\n",
    "calls['month'] = calls['call_date'].dt.month\n",
    "messages['month'] = messages['message_date'].dt.month\n",
    "internet['month'] = internet['session_date'].dt.month\n",
    "\n",
    "# Calcula el número de llamadas hechas por cada usuario al mes. Guarda el resultado.\n",
    "calls_by_user = (\n",
    "    calls\n",
    "    .groupby(by=['user_id', 'month'])\n",
    "    .agg(calls_used = ('call_id','count'))\n",
    "    .reset_index()\n",
    ")\n",
    "\n",
    "# Calcula la cantidad de minutos usados por cada usuario al mes. Guarda el resultado.\n",
    "minutes_by_user = (\n",
    "    calls\n",
    "    .groupby(by=['user_id', 'month'])\n",
    "    .agg(min_used = ('duration','sum'))\n",
    "    .reset_index()\n",
    ")\n",
    "\n",
    "# Calcula el número de mensajes enviados por cada usuario al mes. Guarda el resultado.\n",
    "messages_by_user = (\n",
    "    messages\n",
    "    .groupby(by=['user_id', 'month'])\n",
    "    .agg(messages_used=('message_id','count'))\n",
    "    .reset_index()\n",
    ")\n",
    "\n",
    "# Calcula el volumen del tráfico de Internet usado por cada usuario al mes. Guarda el resultado.\n",
    "mb_by_user = (\n",
    "    internet\n",
    "    .groupby(by=['user_id', 'month'])\n",
    "    .agg({'mb_used':'sum'})\n",
    "    .reset_index()\n",
    ")"
   ]
  },
  {
   "cell_type": "markdown",
   "metadata": {
    "id": "VDfYXnj80q1H"
   },
   "source": [
    ">A continuación, se unirán los datos agregados en un DataFrame para que haya un registro que represente lo que consumió un usuario único en un mes determinado."
   ]
  },
  {
   "cell_type": "code",
   "execution_count": 32,
   "metadata": {
    "id": "FW99ykyf0q1H"
   },
   "outputs": [],
   "source": [
    "# Fusiona los datos de llamadas, minutos, mensajes e Internet con base en user_id y month\n",
    "user_monthly_summary = (\n",
    "    calls_by_user\n",
    "    .merge(minutes_by_user, on=['user_id','month'], how='left')\n",
    "    .merge(messages_by_user, on=['user_id','month'], how='left')\n",
    "    .merge(mb_by_user, on=['user_id','month'], how='left')\n",
    ")"
   ]
  },
  {
   "cell_type": "code",
   "execution_count": 33,
   "metadata": {
    "id": "0dNOXHag0q1H"
   },
   "outputs": [],
   "source": [
    "# Añade la información de la tarifa\n",
    "user_monthly_summary = (\n",
    "    users[['user_id', 'plan_name']]\n",
    "    .merge(user_monthly_summary, on='user_id', how='left')\n",
    "    .merge(plans, on='plan_name', how='left')\n",
    ")\n"
   ]
  },
  {
   "cell_type": "code",
   "execution_count": 34,
   "metadata": {},
   "outputs": [
    {
     "name": "stdout",
     "output_type": "stream",
     "text": [
      "<class 'pandas.core.frame.DataFrame'>\n",
      "RangeIndex: 2277 entries, 0 to 2276\n",
      "Data columns (total 14 columns):\n",
      " #   Column             Non-Null Count  Dtype  \n",
      "---  ------             --------------  -----  \n",
      " 0   user_id            2277 non-null   object \n",
      " 1   plan_name          2277 non-null   object \n",
      " 2   month              2258 non-null   float64\n",
      " 3   calls_used         2258 non-null   float64\n",
      " 4   min_used           2258 non-null   float64\n",
      " 5   messages_used      1773 non-null   float64\n",
      " 6   mb_used            2243 non-null   float64\n",
      " 7   usd_monthly_pay    2277 non-null   float64\n",
      " 8   messages_included  2277 non-null   int64  \n",
      " 9   mb_included        2277 non-null   int64  \n",
      " 10  minutes_included   2277 non-null   int64  \n",
      " 11  usd_per_message    2277 non-null   float64\n",
      " 12  usd_per_gb         2277 non-null   float64\n",
      " 13  usd_per_minute     2277 non-null   float64\n",
      "dtypes: float64(9), int64(3), object(2)\n",
      "memory usage: 249.2+ KB\n"
     ]
    }
   ],
   "source": [
    "# Mostrando resumen de dataframe resultante\n",
    "user_monthly_summary.info()"
   ]
  },
  {
   "cell_type": "markdown",
   "metadata": {},
   "source": [
    ">**Observaciones:**\n",
    ">\n",
    ">- Existen datos ausentes en las columnas: `month`, `calls_used`, `min_used`, `messages_used` y `mb_used`."
   ]
  },
  {
   "cell_type": "code",
   "execution_count": 35,
   "metadata": {},
   "outputs": [
    {
     "data": {
      "text/html": [
       "<div>\n",
       "<style scoped>\n",
       "    .dataframe tbody tr th:only-of-type {\n",
       "        vertical-align: middle;\n",
       "    }\n",
       "\n",
       "    .dataframe tbody tr th {\n",
       "        vertical-align: top;\n",
       "    }\n",
       "\n",
       "    .dataframe thead th {\n",
       "        text-align: right;\n",
       "    }\n",
       "</style>\n",
       "<table border=\"1\" class=\"dataframe\">\n",
       "  <thead>\n",
       "    <tr style=\"text-align: right;\">\n",
       "      <th></th>\n",
       "      <th>user_id</th>\n",
       "      <th>plan_name</th>\n",
       "      <th>month</th>\n",
       "      <th>calls_used</th>\n",
       "      <th>min_used</th>\n",
       "      <th>messages_used</th>\n",
       "      <th>mb_used</th>\n",
       "      <th>usd_monthly_pay</th>\n",
       "      <th>messages_included</th>\n",
       "      <th>mb_included</th>\n",
       "      <th>minutes_included</th>\n",
       "      <th>usd_per_message</th>\n",
       "      <th>usd_per_gb</th>\n",
       "      <th>usd_per_minute</th>\n",
       "    </tr>\n",
       "  </thead>\n",
       "  <tbody>\n",
       "    <tr>\n",
       "      <th>86</th>\n",
       "      <td>1025</td>\n",
       "      <td>ultimate</td>\n",
       "      <td>NaN</td>\n",
       "      <td>NaN</td>\n",
       "      <td>NaN</td>\n",
       "      <td>NaN</td>\n",
       "      <td>NaN</td>\n",
       "      <td>70.0</td>\n",
       "      <td>1000</td>\n",
       "      <td>30720</td>\n",
       "      <td>3000</td>\n",
       "      <td>0.01</td>\n",
       "      <td>7.0</td>\n",
       "      <td>0.01</td>\n",
       "    </tr>\n",
       "    <tr>\n",
       "      <th>381</th>\n",
       "      <td>1080</td>\n",
       "      <td>surf</td>\n",
       "      <td>NaN</td>\n",
       "      <td>NaN</td>\n",
       "      <td>NaN</td>\n",
       "      <td>NaN</td>\n",
       "      <td>NaN</td>\n",
       "      <td>20.0</td>\n",
       "      <td>50</td>\n",
       "      <td>15360</td>\n",
       "      <td>500</td>\n",
       "      <td>0.03</td>\n",
       "      <td>10.0</td>\n",
       "      <td>0.03</td>\n",
       "    </tr>\n",
       "    <tr>\n",
       "      <th>422</th>\n",
       "      <td>1089</td>\n",
       "      <td>surf</td>\n",
       "      <td>NaN</td>\n",
       "      <td>NaN</td>\n",
       "      <td>NaN</td>\n",
       "      <td>NaN</td>\n",
       "      <td>NaN</td>\n",
       "      <td>20.0</td>\n",
       "      <td>50</td>\n",
       "      <td>15360</td>\n",
       "      <td>500</td>\n",
       "      <td>0.03</td>\n",
       "      <td>10.0</td>\n",
       "      <td>0.03</td>\n",
       "    </tr>\n",
       "    <tr>\n",
       "      <th>503</th>\n",
       "      <td>1108</td>\n",
       "      <td>ultimate</td>\n",
       "      <td>NaN</td>\n",
       "      <td>NaN</td>\n",
       "      <td>NaN</td>\n",
       "      <td>NaN</td>\n",
       "      <td>NaN</td>\n",
       "      <td>70.0</td>\n",
       "      <td>1000</td>\n",
       "      <td>30720</td>\n",
       "      <td>3000</td>\n",
       "      <td>0.01</td>\n",
       "      <td>7.0</td>\n",
       "      <td>0.01</td>\n",
       "    </tr>\n",
       "    <tr>\n",
       "      <th>565</th>\n",
       "      <td>1121</td>\n",
       "      <td>surf</td>\n",
       "      <td>NaN</td>\n",
       "      <td>NaN</td>\n",
       "      <td>NaN</td>\n",
       "      <td>NaN</td>\n",
       "      <td>NaN</td>\n",
       "      <td>20.0</td>\n",
       "      <td>50</td>\n",
       "      <td>15360</td>\n",
       "      <td>500</td>\n",
       "      <td>0.03</td>\n",
       "      <td>10.0</td>\n",
       "      <td>0.03</td>\n",
       "    </tr>\n",
       "    <tr>\n",
       "      <th>606</th>\n",
       "      <td>1129</td>\n",
       "      <td>surf</td>\n",
       "      <td>NaN</td>\n",
       "      <td>NaN</td>\n",
       "      <td>NaN</td>\n",
       "      <td>NaN</td>\n",
       "      <td>NaN</td>\n",
       "      <td>20.0</td>\n",
       "      <td>50</td>\n",
       "      <td>15360</td>\n",
       "      <td>500</td>\n",
       "      <td>0.03</td>\n",
       "      <td>10.0</td>\n",
       "      <td>0.03</td>\n",
       "    </tr>\n",
       "    <tr>\n",
       "      <th>611</th>\n",
       "      <td>1131</td>\n",
       "      <td>surf</td>\n",
       "      <td>NaN</td>\n",
       "      <td>NaN</td>\n",
       "      <td>NaN</td>\n",
       "      <td>NaN</td>\n",
       "      <td>NaN</td>\n",
       "      <td>20.0</td>\n",
       "      <td>50</td>\n",
       "      <td>15360</td>\n",
       "      <td>500</td>\n",
       "      <td>0.03</td>\n",
       "      <td>10.0</td>\n",
       "      <td>0.03</td>\n",
       "    </tr>\n",
       "    <tr>\n",
       "      <th>635</th>\n",
       "      <td>1137</td>\n",
       "      <td>surf</td>\n",
       "      <td>NaN</td>\n",
       "      <td>NaN</td>\n",
       "      <td>NaN</td>\n",
       "      <td>NaN</td>\n",
       "      <td>NaN</td>\n",
       "      <td>20.0</td>\n",
       "      <td>50</td>\n",
       "      <td>15360</td>\n",
       "      <td>500</td>\n",
       "      <td>0.03</td>\n",
       "      <td>10.0</td>\n",
       "      <td>0.03</td>\n",
       "    </tr>\n",
       "    <tr>\n",
       "      <th>667</th>\n",
       "      <td>1143</td>\n",
       "      <td>surf</td>\n",
       "      <td>NaN</td>\n",
       "      <td>NaN</td>\n",
       "      <td>NaN</td>\n",
       "      <td>NaN</td>\n",
       "      <td>NaN</td>\n",
       "      <td>20.0</td>\n",
       "      <td>50</td>\n",
       "      <td>15360</td>\n",
       "      <td>500</td>\n",
       "      <td>0.03</td>\n",
       "      <td>10.0</td>\n",
       "      <td>0.03</td>\n",
       "    </tr>\n",
       "    <tr>\n",
       "      <th>918</th>\n",
       "      <td>1194</td>\n",
       "      <td>surf</td>\n",
       "      <td>NaN</td>\n",
       "      <td>NaN</td>\n",
       "      <td>NaN</td>\n",
       "      <td>NaN</td>\n",
       "      <td>NaN</td>\n",
       "      <td>20.0</td>\n",
       "      <td>50</td>\n",
       "      <td>15360</td>\n",
       "      <td>500</td>\n",
       "      <td>0.03</td>\n",
       "      <td>10.0</td>\n",
       "      <td>0.03</td>\n",
       "    </tr>\n",
       "    <tr>\n",
       "      <th>968</th>\n",
       "      <td>1204</td>\n",
       "      <td>ultimate</td>\n",
       "      <td>NaN</td>\n",
       "      <td>NaN</td>\n",
       "      <td>NaN</td>\n",
       "      <td>NaN</td>\n",
       "      <td>NaN</td>\n",
       "      <td>70.0</td>\n",
       "      <td>1000</td>\n",
       "      <td>30720</td>\n",
       "      <td>3000</td>\n",
       "      <td>0.01</td>\n",
       "      <td>7.0</td>\n",
       "      <td>0.01</td>\n",
       "    </tr>\n",
       "    <tr>\n",
       "      <th>1264</th>\n",
       "      <td>1269</td>\n",
       "      <td>ultimate</td>\n",
       "      <td>NaN</td>\n",
       "      <td>NaN</td>\n",
       "      <td>NaN</td>\n",
       "      <td>NaN</td>\n",
       "      <td>NaN</td>\n",
       "      <td>70.0</td>\n",
       "      <td>1000</td>\n",
       "      <td>30720</td>\n",
       "      <td>3000</td>\n",
       "      <td>0.01</td>\n",
       "      <td>7.0</td>\n",
       "      <td>0.01</td>\n",
       "    </tr>\n",
       "    <tr>\n",
       "      <th>1276</th>\n",
       "      <td>1275</td>\n",
       "      <td>ultimate</td>\n",
       "      <td>NaN</td>\n",
       "      <td>NaN</td>\n",
       "      <td>NaN</td>\n",
       "      <td>NaN</td>\n",
       "      <td>NaN</td>\n",
       "      <td>70.0</td>\n",
       "      <td>1000</td>\n",
       "      <td>30720</td>\n",
       "      <td>3000</td>\n",
       "      <td>0.01</td>\n",
       "      <td>7.0</td>\n",
       "      <td>0.01</td>\n",
       "    </tr>\n",
       "    <tr>\n",
       "      <th>1397</th>\n",
       "      <td>1307</td>\n",
       "      <td>surf</td>\n",
       "      <td>NaN</td>\n",
       "      <td>NaN</td>\n",
       "      <td>NaN</td>\n",
       "      <td>NaN</td>\n",
       "      <td>NaN</td>\n",
       "      <td>20.0</td>\n",
       "      <td>50</td>\n",
       "      <td>15360</td>\n",
       "      <td>500</td>\n",
       "      <td>0.03</td>\n",
       "      <td>10.0</td>\n",
       "      <td>0.03</td>\n",
       "    </tr>\n",
       "    <tr>\n",
       "      <th>1444</th>\n",
       "      <td>1319</td>\n",
       "      <td>surf</td>\n",
       "      <td>NaN</td>\n",
       "      <td>NaN</td>\n",
       "      <td>NaN</td>\n",
       "      <td>NaN</td>\n",
       "      <td>NaN</td>\n",
       "      <td>20.0</td>\n",
       "      <td>50</td>\n",
       "      <td>15360</td>\n",
       "      <td>500</td>\n",
       "      <td>0.03</td>\n",
       "      <td>10.0</td>\n",
       "      <td>0.03</td>\n",
       "    </tr>\n",
       "    <tr>\n",
       "      <th>1594</th>\n",
       "      <td>1349</td>\n",
       "      <td>surf</td>\n",
       "      <td>NaN</td>\n",
       "      <td>NaN</td>\n",
       "      <td>NaN</td>\n",
       "      <td>NaN</td>\n",
       "      <td>NaN</td>\n",
       "      <td>20.0</td>\n",
       "      <td>50</td>\n",
       "      <td>15360</td>\n",
       "      <td>500</td>\n",
       "      <td>0.03</td>\n",
       "      <td>10.0</td>\n",
       "      <td>0.03</td>\n",
       "    </tr>\n",
       "    <tr>\n",
       "      <th>1737</th>\n",
       "      <td>1378</td>\n",
       "      <td>surf</td>\n",
       "      <td>NaN</td>\n",
       "      <td>NaN</td>\n",
       "      <td>NaN</td>\n",
       "      <td>NaN</td>\n",
       "      <td>NaN</td>\n",
       "      <td>20.0</td>\n",
       "      <td>50</td>\n",
       "      <td>15360</td>\n",
       "      <td>500</td>\n",
       "      <td>0.03</td>\n",
       "      <td>10.0</td>\n",
       "      <td>0.03</td>\n",
       "    </tr>\n",
       "    <tr>\n",
       "      <th>2114</th>\n",
       "      <td>1463</td>\n",
       "      <td>ultimate</td>\n",
       "      <td>NaN</td>\n",
       "      <td>NaN</td>\n",
       "      <td>NaN</td>\n",
       "      <td>NaN</td>\n",
       "      <td>NaN</td>\n",
       "      <td>70.0</td>\n",
       "      <td>1000</td>\n",
       "      <td>30720</td>\n",
       "      <td>3000</td>\n",
       "      <td>0.01</td>\n",
       "      <td>7.0</td>\n",
       "      <td>0.01</td>\n",
       "    </tr>\n",
       "    <tr>\n",
       "      <th>2164</th>\n",
       "      <td>1473</td>\n",
       "      <td>surf</td>\n",
       "      <td>NaN</td>\n",
       "      <td>NaN</td>\n",
       "      <td>NaN</td>\n",
       "      <td>NaN</td>\n",
       "      <td>NaN</td>\n",
       "      <td>20.0</td>\n",
       "      <td>50</td>\n",
       "      <td>15360</td>\n",
       "      <td>500</td>\n",
       "      <td>0.03</td>\n",
       "      <td>10.0</td>\n",
       "      <td>0.03</td>\n",
       "    </tr>\n",
       "  </tbody>\n",
       "</table>\n",
       "</div>"
      ],
      "text/plain": [
       "     user_id plan_name  month  calls_used  min_used  messages_used  mb_used  \\\n",
       "86      1025  ultimate    NaN         NaN       NaN            NaN      NaN   \n",
       "381     1080      surf    NaN         NaN       NaN            NaN      NaN   \n",
       "422     1089      surf    NaN         NaN       NaN            NaN      NaN   \n",
       "503     1108  ultimate    NaN         NaN       NaN            NaN      NaN   \n",
       "565     1121      surf    NaN         NaN       NaN            NaN      NaN   \n",
       "606     1129      surf    NaN         NaN       NaN            NaN      NaN   \n",
       "611     1131      surf    NaN         NaN       NaN            NaN      NaN   \n",
       "635     1137      surf    NaN         NaN       NaN            NaN      NaN   \n",
       "667     1143      surf    NaN         NaN       NaN            NaN      NaN   \n",
       "918     1194      surf    NaN         NaN       NaN            NaN      NaN   \n",
       "968     1204  ultimate    NaN         NaN       NaN            NaN      NaN   \n",
       "1264    1269  ultimate    NaN         NaN       NaN            NaN      NaN   \n",
       "1276    1275  ultimate    NaN         NaN       NaN            NaN      NaN   \n",
       "1397    1307      surf    NaN         NaN       NaN            NaN      NaN   \n",
       "1444    1319      surf    NaN         NaN       NaN            NaN      NaN   \n",
       "1594    1349      surf    NaN         NaN       NaN            NaN      NaN   \n",
       "1737    1378      surf    NaN         NaN       NaN            NaN      NaN   \n",
       "2114    1463  ultimate    NaN         NaN       NaN            NaN      NaN   \n",
       "2164    1473      surf    NaN         NaN       NaN            NaN      NaN   \n",
       "\n",
       "      usd_monthly_pay  messages_included  mb_included  minutes_included  \\\n",
       "86               70.0               1000        30720              3000   \n",
       "381              20.0                 50        15360               500   \n",
       "422              20.0                 50        15360               500   \n",
       "503              70.0               1000        30720              3000   \n",
       "565              20.0                 50        15360               500   \n",
       "606              20.0                 50        15360               500   \n",
       "611              20.0                 50        15360               500   \n",
       "635              20.0                 50        15360               500   \n",
       "667              20.0                 50        15360               500   \n",
       "918              20.0                 50        15360               500   \n",
       "968              70.0               1000        30720              3000   \n",
       "1264             70.0               1000        30720              3000   \n",
       "1276             70.0               1000        30720              3000   \n",
       "1397             20.0                 50        15360               500   \n",
       "1444             20.0                 50        15360               500   \n",
       "1594             20.0                 50        15360               500   \n",
       "1737             20.0                 50        15360               500   \n",
       "2114             70.0               1000        30720              3000   \n",
       "2164             20.0                 50        15360               500   \n",
       "\n",
       "      usd_per_message  usd_per_gb  usd_per_minute  \n",
       "86               0.01         7.0            0.01  \n",
       "381              0.03        10.0            0.03  \n",
       "422              0.03        10.0            0.03  \n",
       "503              0.01         7.0            0.01  \n",
       "565              0.03        10.0            0.03  \n",
       "606              0.03        10.0            0.03  \n",
       "611              0.03        10.0            0.03  \n",
       "635              0.03        10.0            0.03  \n",
       "667              0.03        10.0            0.03  \n",
       "918              0.03        10.0            0.03  \n",
       "968              0.01         7.0            0.01  \n",
       "1264             0.01         7.0            0.01  \n",
       "1276             0.01         7.0            0.01  \n",
       "1397             0.03        10.0            0.03  \n",
       "1444             0.03        10.0            0.03  \n",
       "1594             0.03        10.0            0.03  \n",
       "1737             0.03        10.0            0.03  \n",
       "2114             0.01         7.0            0.01  \n",
       "2164             0.03        10.0            0.03  "
      ]
     },
     "execution_count": 35,
     "metadata": {},
     "output_type": "execute_result"
    }
   ],
   "source": [
    "# Manejando valores ausente resultantes de merge en columna 'month'\n",
    "user_monthly_summary.query('month.isna()')"
   ]
  },
  {
   "cell_type": "markdown",
   "metadata": {},
   "source": [
    ">**Observaciones:**\n",
    ">\n",
    ">- Se observa que los registros que tienen valores ausentes en la columna `month` también tienen valores ausentes en las columnas `calls_used`, `min_used`, `messages_used` y `mb_used`. Esto indica que se trata de clientes que no han registrado actividad todavía, por lo que estos registros serán eliminados."
   ]
  },
  {
   "cell_type": "code",
   "execution_count": 36,
   "metadata": {},
   "outputs": [],
   "source": [
    "# Manejando valores ausente resultantes de merge en columna 'month'\n",
    "user_monthly_summary.dropna(subset=['month'], inplace=True)\n"
   ]
  },
  {
   "cell_type": "markdown",
   "metadata": {},
   "source": [
    ">**Observaciones:**\n",
    ">\n",
    ">- De esta forma ahora solo existen datos ausentes en las columnas: `messages_used` y `mb_used`. Esto puede deberse a que si bien los usuarios registraron actividad en el uso de llamadas, no enviaron mensajes ni navegaron en internet. Debido a esto, los valores ausentes serán sustituidos por el número 0."
   ]
  },
  {
   "cell_type": "code",
   "execution_count": 37,
   "metadata": {},
   "outputs": [],
   "source": [
    "# Manejando valores ausente resultantes de merge\n",
    "user_monthly_summary.fillna(0, inplace=True)\n"
   ]
  },
  {
   "cell_type": "code",
   "execution_count": 38,
   "metadata": {},
   "outputs": [
    {
     "name": "stdout",
     "output_type": "stream",
     "text": [
      "<class 'pandas.core.frame.DataFrame'>\n",
      "Index: 2258 entries, 0 to 2276\n",
      "Data columns (total 14 columns):\n",
      " #   Column             Non-Null Count  Dtype  \n",
      "---  ------             --------------  -----  \n",
      " 0   user_id            2258 non-null   object \n",
      " 1   plan_name          2258 non-null   object \n",
      " 2   month              2258 non-null   float64\n",
      " 3   calls_used         2258 non-null   float64\n",
      " 4   min_used           2258 non-null   float64\n",
      " 5   messages_used      2258 non-null   float64\n",
      " 6   mb_used            2258 non-null   float64\n",
      " 7   usd_monthly_pay    2258 non-null   float64\n",
      " 8   messages_included  2258 non-null   int64  \n",
      " 9   mb_included        2258 non-null   int64  \n",
      " 10  minutes_included   2258 non-null   int64  \n",
      " 11  usd_per_message    2258 non-null   float64\n",
      " 12  usd_per_gb         2258 non-null   float64\n",
      " 13  usd_per_minute     2258 non-null   float64\n",
      "dtypes: float64(9), int64(3), object(2)\n",
      "memory usage: 264.6+ KB\n"
     ]
    }
   ],
   "source": [
    "user_monthly_summary.info()"
   ]
  },
  {
   "cell_type": "code",
   "execution_count": 39,
   "metadata": {},
   "outputs": [
    {
     "data": {
      "text/html": [
       "<div>\n",
       "<style scoped>\n",
       "    .dataframe tbody tr th:only-of-type {\n",
       "        vertical-align: middle;\n",
       "    }\n",
       "\n",
       "    .dataframe tbody tr th {\n",
       "        vertical-align: top;\n",
       "    }\n",
       "\n",
       "    .dataframe thead th {\n",
       "        text-align: right;\n",
       "    }\n",
       "</style>\n",
       "<table border=\"1\" class=\"dataframe\">\n",
       "  <thead>\n",
       "    <tr style=\"text-align: right;\">\n",
       "      <th></th>\n",
       "      <th>user_id</th>\n",
       "      <th>plan_name</th>\n",
       "      <th>month</th>\n",
       "      <th>calls_used</th>\n",
       "      <th>min_used</th>\n",
       "      <th>messages_used</th>\n",
       "      <th>mb_used</th>\n",
       "      <th>usd_monthly_pay</th>\n",
       "      <th>messages_included</th>\n",
       "      <th>mb_included</th>\n",
       "      <th>minutes_included</th>\n",
       "      <th>usd_per_message</th>\n",
       "      <th>usd_per_gb</th>\n",
       "      <th>usd_per_minute</th>\n",
       "    </tr>\n",
       "  </thead>\n",
       "  <tbody>\n",
       "    <tr>\n",
       "      <th>0</th>\n",
       "      <td>1000</td>\n",
       "      <td>ultimate</td>\n",
       "      <td>12.0</td>\n",
       "      <td>16.0</td>\n",
       "      <td>124.0</td>\n",
       "      <td>11.0</td>\n",
       "      <td>1901.47</td>\n",
       "      <td>70.0</td>\n",
       "      <td>1000</td>\n",
       "      <td>30720</td>\n",
       "      <td>3000</td>\n",
       "      <td>0.01</td>\n",
       "      <td>7.0</td>\n",
       "      <td>0.01</td>\n",
       "    </tr>\n",
       "  </tbody>\n",
       "</table>\n",
       "</div>"
      ],
      "text/plain": [
       "  user_id plan_name  month  calls_used  min_used  messages_used  mb_used  \\\n",
       "0    1000  ultimate   12.0        16.0     124.0           11.0  1901.47   \n",
       "\n",
       "   usd_monthly_pay  messages_included  mb_included  minutes_included  \\\n",
       "0             70.0               1000        30720              3000   \n",
       "\n",
       "   usd_per_message  usd_per_gb  usd_per_minute  \n",
       "0             0.01         7.0            0.01  "
      ]
     },
     "execution_count": 39,
     "metadata": {},
     "output_type": "execute_result"
    }
   ],
   "source": [
    "user_monthly_summary.head(1)"
   ]
  },
  {
   "cell_type": "markdown",
   "metadata": {},
   "source": [
    ">**Observaciones:**\n",
    ">\n",
    ">- No se observan mas valores ausentes.\n",
    ">\n",
    ">- Debido a la fusión de los dataframes y la aparición de datos ausentes, algunas columnas cambiaron al tipo `float`, esto debe corregirse."
   ]
  },
  {
   "cell_type": "code",
   "execution_count": 40,
   "metadata": {},
   "outputs": [],
   "source": [
    "user_monthly_summary[['month', 'calls_used', 'min_used', 'messages_used', 'usd_monthly_pay', 'usd_per_gb']] = (\n",
    "    user_monthly_summary[['month', 'calls_used', 'min_used', 'messages_used', 'usd_monthly_pay', 'usd_per_gb']].astype('int')\n",
    ")"
   ]
  },
  {
   "cell_type": "code",
   "execution_count": 41,
   "metadata": {},
   "outputs": [
    {
     "data": {
      "text/html": [
       "<div>\n",
       "<style scoped>\n",
       "    .dataframe tbody tr th:only-of-type {\n",
       "        vertical-align: middle;\n",
       "    }\n",
       "\n",
       "    .dataframe tbody tr th {\n",
       "        vertical-align: top;\n",
       "    }\n",
       "\n",
       "    .dataframe thead th {\n",
       "        text-align: right;\n",
       "    }\n",
       "</style>\n",
       "<table border=\"1\" class=\"dataframe\">\n",
       "  <thead>\n",
       "    <tr style=\"text-align: right;\">\n",
       "      <th></th>\n",
       "      <th>user_id</th>\n",
       "      <th>plan_name</th>\n",
       "      <th>month</th>\n",
       "      <th>calls_used</th>\n",
       "      <th>min_used</th>\n",
       "      <th>messages_used</th>\n",
       "      <th>mb_used</th>\n",
       "      <th>usd_monthly_pay</th>\n",
       "      <th>messages_included</th>\n",
       "      <th>mb_included</th>\n",
       "      <th>minutes_included</th>\n",
       "      <th>usd_per_message</th>\n",
       "      <th>usd_per_gb</th>\n",
       "      <th>usd_per_minute</th>\n",
       "    </tr>\n",
       "  </thead>\n",
       "  <tbody>\n",
       "    <tr>\n",
       "      <th>0</th>\n",
       "      <td>1000</td>\n",
       "      <td>ultimate</td>\n",
       "      <td>12</td>\n",
       "      <td>16</td>\n",
       "      <td>124</td>\n",
       "      <td>11</td>\n",
       "      <td>1901.47</td>\n",
       "      <td>70</td>\n",
       "      <td>1000</td>\n",
       "      <td>30720</td>\n",
       "      <td>3000</td>\n",
       "      <td>0.01</td>\n",
       "      <td>7</td>\n",
       "      <td>0.01</td>\n",
       "    </tr>\n",
       "    <tr>\n",
       "      <th>1</th>\n",
       "      <td>1001</td>\n",
       "      <td>surf</td>\n",
       "      <td>8</td>\n",
       "      <td>27</td>\n",
       "      <td>182</td>\n",
       "      <td>30</td>\n",
       "      <td>6919.15</td>\n",
       "      <td>20</td>\n",
       "      <td>50</td>\n",
       "      <td>15360</td>\n",
       "      <td>500</td>\n",
       "      <td>0.03</td>\n",
       "      <td>10</td>\n",
       "      <td>0.03</td>\n",
       "    </tr>\n",
       "    <tr>\n",
       "      <th>2</th>\n",
       "      <td>1001</td>\n",
       "      <td>surf</td>\n",
       "      <td>9</td>\n",
       "      <td>49</td>\n",
       "      <td>315</td>\n",
       "      <td>44</td>\n",
       "      <td>13314.82</td>\n",
       "      <td>20</td>\n",
       "      <td>50</td>\n",
       "      <td>15360</td>\n",
       "      <td>500</td>\n",
       "      <td>0.03</td>\n",
       "      <td>10</td>\n",
       "      <td>0.03</td>\n",
       "    </tr>\n",
       "    <tr>\n",
       "      <th>3</th>\n",
       "      <td>1001</td>\n",
       "      <td>surf</td>\n",
       "      <td>10</td>\n",
       "      <td>65</td>\n",
       "      <td>393</td>\n",
       "      <td>53</td>\n",
       "      <td>22330.49</td>\n",
       "      <td>20</td>\n",
       "      <td>50</td>\n",
       "      <td>15360</td>\n",
       "      <td>500</td>\n",
       "      <td>0.03</td>\n",
       "      <td>10</td>\n",
       "      <td>0.03</td>\n",
       "    </tr>\n",
       "    <tr>\n",
       "      <th>4</th>\n",
       "      <td>1001</td>\n",
       "      <td>surf</td>\n",
       "      <td>11</td>\n",
       "      <td>64</td>\n",
       "      <td>426</td>\n",
       "      <td>36</td>\n",
       "      <td>18504.30</td>\n",
       "      <td>20</td>\n",
       "      <td>50</td>\n",
       "      <td>15360</td>\n",
       "      <td>500</td>\n",
       "      <td>0.03</td>\n",
       "      <td>10</td>\n",
       "      <td>0.03</td>\n",
       "    </tr>\n",
       "    <tr>\n",
       "      <th>5</th>\n",
       "      <td>1001</td>\n",
       "      <td>surf</td>\n",
       "      <td>12</td>\n",
       "      <td>56</td>\n",
       "      <td>412</td>\n",
       "      <td>44</td>\n",
       "      <td>19369.18</td>\n",
       "      <td>20</td>\n",
       "      <td>50</td>\n",
       "      <td>15360</td>\n",
       "      <td>500</td>\n",
       "      <td>0.03</td>\n",
       "      <td>10</td>\n",
       "      <td>0.03</td>\n",
       "    </tr>\n",
       "    <tr>\n",
       "      <th>6</th>\n",
       "      <td>1002</td>\n",
       "      <td>surf</td>\n",
       "      <td>10</td>\n",
       "      <td>11</td>\n",
       "      <td>59</td>\n",
       "      <td>15</td>\n",
       "      <td>6552.01</td>\n",
       "      <td>20</td>\n",
       "      <td>50</td>\n",
       "      <td>15360</td>\n",
       "      <td>500</td>\n",
       "      <td>0.03</td>\n",
       "      <td>10</td>\n",
       "      <td>0.03</td>\n",
       "    </tr>\n",
       "    <tr>\n",
       "      <th>7</th>\n",
       "      <td>1002</td>\n",
       "      <td>surf</td>\n",
       "      <td>11</td>\n",
       "      <td>55</td>\n",
       "      <td>386</td>\n",
       "      <td>32</td>\n",
       "      <td>19345.08</td>\n",
       "      <td>20</td>\n",
       "      <td>50</td>\n",
       "      <td>15360</td>\n",
       "      <td>500</td>\n",
       "      <td>0.03</td>\n",
       "      <td>10</td>\n",
       "      <td>0.03</td>\n",
       "    </tr>\n",
       "    <tr>\n",
       "      <th>8</th>\n",
       "      <td>1002</td>\n",
       "      <td>surf</td>\n",
       "      <td>12</td>\n",
       "      <td>47</td>\n",
       "      <td>384</td>\n",
       "      <td>41</td>\n",
       "      <td>14396.24</td>\n",
       "      <td>20</td>\n",
       "      <td>50</td>\n",
       "      <td>15360</td>\n",
       "      <td>500</td>\n",
       "      <td>0.03</td>\n",
       "      <td>10</td>\n",
       "      <td>0.03</td>\n",
       "    </tr>\n",
       "    <tr>\n",
       "      <th>9</th>\n",
       "      <td>1003</td>\n",
       "      <td>surf</td>\n",
       "      <td>12</td>\n",
       "      <td>149</td>\n",
       "      <td>1104</td>\n",
       "      <td>50</td>\n",
       "      <td>27044.14</td>\n",
       "      <td>20</td>\n",
       "      <td>50</td>\n",
       "      <td>15360</td>\n",
       "      <td>500</td>\n",
       "      <td>0.03</td>\n",
       "      <td>10</td>\n",
       "      <td>0.03</td>\n",
       "    </tr>\n",
       "  </tbody>\n",
       "</table>\n",
       "</div>"
      ],
      "text/plain": [
       "  user_id plan_name  month  calls_used  min_used  messages_used   mb_used  \\\n",
       "0    1000  ultimate     12          16       124             11   1901.47   \n",
       "1    1001      surf      8          27       182             30   6919.15   \n",
       "2    1001      surf      9          49       315             44  13314.82   \n",
       "3    1001      surf     10          65       393             53  22330.49   \n",
       "4    1001      surf     11          64       426             36  18504.30   \n",
       "5    1001      surf     12          56       412             44  19369.18   \n",
       "6    1002      surf     10          11        59             15   6552.01   \n",
       "7    1002      surf     11          55       386             32  19345.08   \n",
       "8    1002      surf     12          47       384             41  14396.24   \n",
       "9    1003      surf     12         149      1104             50  27044.14   \n",
       "\n",
       "   usd_monthly_pay  messages_included  mb_included  minutes_included  \\\n",
       "0               70               1000        30720              3000   \n",
       "1               20                 50        15360               500   \n",
       "2               20                 50        15360               500   \n",
       "3               20                 50        15360               500   \n",
       "4               20                 50        15360               500   \n",
       "5               20                 50        15360               500   \n",
       "6               20                 50        15360               500   \n",
       "7               20                 50        15360               500   \n",
       "8               20                 50        15360               500   \n",
       "9               20                 50        15360               500   \n",
       "\n",
       "   usd_per_message  usd_per_gb  usd_per_minute  \n",
       "0             0.01           7            0.01  \n",
       "1             0.03          10            0.03  \n",
       "2             0.03          10            0.03  \n",
       "3             0.03          10            0.03  \n",
       "4             0.03          10            0.03  \n",
       "5             0.03          10            0.03  \n",
       "6             0.03          10            0.03  \n",
       "7             0.03          10            0.03  \n",
       "8             0.03          10            0.03  \n",
       "9             0.03          10            0.03  "
      ]
     },
     "metadata": {},
     "output_type": "display_data"
    }
   ],
   "source": [
    "# Visualización de DataFrame resultante\n",
    "display(user_monthly_summary.head(10))"
   ]
  },
  {
   "cell_type": "markdown",
   "metadata": {},
   "source": [
    "### **Ingreso mensual para cada usuario:**"
   ]
  },
  {
   "cell_type": "code",
   "execution_count": 42,
   "metadata": {
    "id": "5FGCf_c60q1I"
   },
   "outputs": [],
   "source": [
    "# Calcula el ingreso mensual para cada usuario:\n",
    "    # Declarando función que revisa los negativos y los convierte en 0\n",
    "def verificar_negativos (valor):\n",
    "    if valor < 0:\n",
    "        valor = 0\n",
    "    return valor \n"
   ]
  },
  {
   "cell_type": "code",
   "execution_count": 43,
   "metadata": {},
   "outputs": [],
   "source": [
    "# Calculando minutos que se excede cada usuario\n",
    "user_monthly_summary['min_exceeded'] = (\n",
    "    (user_monthly_summary['min_used'] - user_monthly_summary['minutes_included'])\n",
    "    .apply(verificar_negativos)\n",
    ")\n",
    "# Calculando número de mensajes que se excede cada usuario\n",
    "user_monthly_summary['messages_exceeded'] = (\n",
    "    (user_monthly_summary['messages_used'] - user_monthly_summary['messages_included'])\n",
    "    .apply(verificar_negativos)\n",
    ")\n",
    "# Calculando número de gigabytes que se excede cada usuario\n",
    "user_monthly_summary['gb_exceeded'] = (\n",
    "    ((user_monthly_summary['mb_used'] - user_monthly_summary['mb_included']) / 1000)\n",
    "    .apply(verificar_negativos)\n",
    "    .apply(np.ceil)\n",
    ")"
   ]
  },
  {
   "cell_type": "code",
   "execution_count": 44,
   "metadata": {},
   "outputs": [],
   "source": [
    "# Calculando cuanto pagará el usuario por los minutos excedidos\n",
    "user_monthly_summary['exceeded_min_pay'] = user_monthly_summary['min_exceeded'] * user_monthly_summary['usd_per_minute']\n",
    "\n",
    "# Calculando cuanto pagará el usuario por los mensajes excedidos\n",
    "user_monthly_summary['exceeded_messages_pay'] = user_monthly_summary['messages_exceeded'] * user_monthly_summary['usd_per_message']\n",
    "\n",
    "# Calculando cuanto pagará el usuario por los gigabytes excedidos\n",
    "user_monthly_summary['exceeded_gb_pay'] = user_monthly_summary['gb_exceeded'] * user_monthly_summary['usd_per_gb']"
   ]
  },
  {
   "cell_type": "code",
   "execution_count": 45,
   "metadata": {},
   "outputs": [],
   "source": [
    "# Calculando el pago total por mes para cada usuario\n",
    "user_monthly_summary['total_pay'] = (\n",
    "    user_monthly_summary[['exceeded_min_pay', 'exceeded_messages_pay', 'exceeded_gb_pay', 'usd_monthly_pay']]\n",
    "    .sum(axis=1)\n",
    ")\n"
   ]
  },
  {
   "cell_type": "code",
   "execution_count": 46,
   "metadata": {},
   "outputs": [
    {
     "data": {
      "text/html": [
       "<div>\n",
       "<style scoped>\n",
       "    .dataframe tbody tr th:only-of-type {\n",
       "        vertical-align: middle;\n",
       "    }\n",
       "\n",
       "    .dataframe tbody tr th {\n",
       "        vertical-align: top;\n",
       "    }\n",
       "\n",
       "    .dataframe thead th {\n",
       "        text-align: right;\n",
       "    }\n",
       "</style>\n",
       "<table border=\"1\" class=\"dataframe\">\n",
       "  <thead>\n",
       "    <tr style=\"text-align: right;\">\n",
       "      <th></th>\n",
       "      <th>user_id</th>\n",
       "      <th>plan_name</th>\n",
       "      <th>month</th>\n",
       "      <th>calls_used</th>\n",
       "      <th>min_used</th>\n",
       "      <th>messages_used</th>\n",
       "      <th>mb_used</th>\n",
       "      <th>usd_monthly_pay</th>\n",
       "      <th>messages_included</th>\n",
       "      <th>mb_included</th>\n",
       "      <th>...</th>\n",
       "      <th>usd_per_message</th>\n",
       "      <th>usd_per_gb</th>\n",
       "      <th>usd_per_minute</th>\n",
       "      <th>min_exceeded</th>\n",
       "      <th>messages_exceeded</th>\n",
       "      <th>gb_exceeded</th>\n",
       "      <th>exceeded_min_pay</th>\n",
       "      <th>exceeded_messages_pay</th>\n",
       "      <th>exceeded_gb_pay</th>\n",
       "      <th>total_pay</th>\n",
       "    </tr>\n",
       "  </thead>\n",
       "  <tbody>\n",
       "    <tr>\n",
       "      <th>0</th>\n",
       "      <td>1000</td>\n",
       "      <td>ultimate</td>\n",
       "      <td>12</td>\n",
       "      <td>16</td>\n",
       "      <td>124</td>\n",
       "      <td>11</td>\n",
       "      <td>1901.47</td>\n",
       "      <td>70</td>\n",
       "      <td>1000</td>\n",
       "      <td>30720</td>\n",
       "      <td>...</td>\n",
       "      <td>0.01</td>\n",
       "      <td>7</td>\n",
       "      <td>0.01</td>\n",
       "      <td>0</td>\n",
       "      <td>0</td>\n",
       "      <td>0.0</td>\n",
       "      <td>0.00</td>\n",
       "      <td>0.00</td>\n",
       "      <td>0.0</td>\n",
       "      <td>70.00</td>\n",
       "    </tr>\n",
       "    <tr>\n",
       "      <th>1</th>\n",
       "      <td>1001</td>\n",
       "      <td>surf</td>\n",
       "      <td>8</td>\n",
       "      <td>27</td>\n",
       "      <td>182</td>\n",
       "      <td>30</td>\n",
       "      <td>6919.15</td>\n",
       "      <td>20</td>\n",
       "      <td>50</td>\n",
       "      <td>15360</td>\n",
       "      <td>...</td>\n",
       "      <td>0.03</td>\n",
       "      <td>10</td>\n",
       "      <td>0.03</td>\n",
       "      <td>0</td>\n",
       "      <td>0</td>\n",
       "      <td>0.0</td>\n",
       "      <td>0.00</td>\n",
       "      <td>0.00</td>\n",
       "      <td>0.0</td>\n",
       "      <td>20.00</td>\n",
       "    </tr>\n",
       "    <tr>\n",
       "      <th>2</th>\n",
       "      <td>1001</td>\n",
       "      <td>surf</td>\n",
       "      <td>9</td>\n",
       "      <td>49</td>\n",
       "      <td>315</td>\n",
       "      <td>44</td>\n",
       "      <td>13314.82</td>\n",
       "      <td>20</td>\n",
       "      <td>50</td>\n",
       "      <td>15360</td>\n",
       "      <td>...</td>\n",
       "      <td>0.03</td>\n",
       "      <td>10</td>\n",
       "      <td>0.03</td>\n",
       "      <td>0</td>\n",
       "      <td>0</td>\n",
       "      <td>0.0</td>\n",
       "      <td>0.00</td>\n",
       "      <td>0.00</td>\n",
       "      <td>0.0</td>\n",
       "      <td>20.00</td>\n",
       "    </tr>\n",
       "    <tr>\n",
       "      <th>3</th>\n",
       "      <td>1001</td>\n",
       "      <td>surf</td>\n",
       "      <td>10</td>\n",
       "      <td>65</td>\n",
       "      <td>393</td>\n",
       "      <td>53</td>\n",
       "      <td>22330.49</td>\n",
       "      <td>20</td>\n",
       "      <td>50</td>\n",
       "      <td>15360</td>\n",
       "      <td>...</td>\n",
       "      <td>0.03</td>\n",
       "      <td>10</td>\n",
       "      <td>0.03</td>\n",
       "      <td>0</td>\n",
       "      <td>3</td>\n",
       "      <td>7.0</td>\n",
       "      <td>0.00</td>\n",
       "      <td>0.09</td>\n",
       "      <td>70.0</td>\n",
       "      <td>90.09</td>\n",
       "    </tr>\n",
       "    <tr>\n",
       "      <th>4</th>\n",
       "      <td>1001</td>\n",
       "      <td>surf</td>\n",
       "      <td>11</td>\n",
       "      <td>64</td>\n",
       "      <td>426</td>\n",
       "      <td>36</td>\n",
       "      <td>18504.30</td>\n",
       "      <td>20</td>\n",
       "      <td>50</td>\n",
       "      <td>15360</td>\n",
       "      <td>...</td>\n",
       "      <td>0.03</td>\n",
       "      <td>10</td>\n",
       "      <td>0.03</td>\n",
       "      <td>0</td>\n",
       "      <td>0</td>\n",
       "      <td>4.0</td>\n",
       "      <td>0.00</td>\n",
       "      <td>0.00</td>\n",
       "      <td>40.0</td>\n",
       "      <td>60.00</td>\n",
       "    </tr>\n",
       "    <tr>\n",
       "      <th>5</th>\n",
       "      <td>1001</td>\n",
       "      <td>surf</td>\n",
       "      <td>12</td>\n",
       "      <td>56</td>\n",
       "      <td>412</td>\n",
       "      <td>44</td>\n",
       "      <td>19369.18</td>\n",
       "      <td>20</td>\n",
       "      <td>50</td>\n",
       "      <td>15360</td>\n",
       "      <td>...</td>\n",
       "      <td>0.03</td>\n",
       "      <td>10</td>\n",
       "      <td>0.03</td>\n",
       "      <td>0</td>\n",
       "      <td>0</td>\n",
       "      <td>5.0</td>\n",
       "      <td>0.00</td>\n",
       "      <td>0.00</td>\n",
       "      <td>50.0</td>\n",
       "      <td>70.00</td>\n",
       "    </tr>\n",
       "    <tr>\n",
       "      <th>6</th>\n",
       "      <td>1002</td>\n",
       "      <td>surf</td>\n",
       "      <td>10</td>\n",
       "      <td>11</td>\n",
       "      <td>59</td>\n",
       "      <td>15</td>\n",
       "      <td>6552.01</td>\n",
       "      <td>20</td>\n",
       "      <td>50</td>\n",
       "      <td>15360</td>\n",
       "      <td>...</td>\n",
       "      <td>0.03</td>\n",
       "      <td>10</td>\n",
       "      <td>0.03</td>\n",
       "      <td>0</td>\n",
       "      <td>0</td>\n",
       "      <td>0.0</td>\n",
       "      <td>0.00</td>\n",
       "      <td>0.00</td>\n",
       "      <td>0.0</td>\n",
       "      <td>20.00</td>\n",
       "    </tr>\n",
       "    <tr>\n",
       "      <th>7</th>\n",
       "      <td>1002</td>\n",
       "      <td>surf</td>\n",
       "      <td>11</td>\n",
       "      <td>55</td>\n",
       "      <td>386</td>\n",
       "      <td>32</td>\n",
       "      <td>19345.08</td>\n",
       "      <td>20</td>\n",
       "      <td>50</td>\n",
       "      <td>15360</td>\n",
       "      <td>...</td>\n",
       "      <td>0.03</td>\n",
       "      <td>10</td>\n",
       "      <td>0.03</td>\n",
       "      <td>0</td>\n",
       "      <td>0</td>\n",
       "      <td>4.0</td>\n",
       "      <td>0.00</td>\n",
       "      <td>0.00</td>\n",
       "      <td>40.0</td>\n",
       "      <td>60.00</td>\n",
       "    </tr>\n",
       "    <tr>\n",
       "      <th>8</th>\n",
       "      <td>1002</td>\n",
       "      <td>surf</td>\n",
       "      <td>12</td>\n",
       "      <td>47</td>\n",
       "      <td>384</td>\n",
       "      <td>41</td>\n",
       "      <td>14396.24</td>\n",
       "      <td>20</td>\n",
       "      <td>50</td>\n",
       "      <td>15360</td>\n",
       "      <td>...</td>\n",
       "      <td>0.03</td>\n",
       "      <td>10</td>\n",
       "      <td>0.03</td>\n",
       "      <td>0</td>\n",
       "      <td>0</td>\n",
       "      <td>0.0</td>\n",
       "      <td>0.00</td>\n",
       "      <td>0.00</td>\n",
       "      <td>0.0</td>\n",
       "      <td>20.00</td>\n",
       "    </tr>\n",
       "    <tr>\n",
       "      <th>9</th>\n",
       "      <td>1003</td>\n",
       "      <td>surf</td>\n",
       "      <td>12</td>\n",
       "      <td>149</td>\n",
       "      <td>1104</td>\n",
       "      <td>50</td>\n",
       "      <td>27044.14</td>\n",
       "      <td>20</td>\n",
       "      <td>50</td>\n",
       "      <td>15360</td>\n",
       "      <td>...</td>\n",
       "      <td>0.03</td>\n",
       "      <td>10</td>\n",
       "      <td>0.03</td>\n",
       "      <td>604</td>\n",
       "      <td>0</td>\n",
       "      <td>12.0</td>\n",
       "      <td>18.12</td>\n",
       "      <td>0.00</td>\n",
       "      <td>120.0</td>\n",
       "      <td>158.12</td>\n",
       "    </tr>\n",
       "  </tbody>\n",
       "</table>\n",
       "<p>10 rows × 21 columns</p>\n",
       "</div>"
      ],
      "text/plain": [
       "  user_id plan_name  month  calls_used  min_used  messages_used   mb_used  \\\n",
       "0    1000  ultimate     12          16       124             11   1901.47   \n",
       "1    1001      surf      8          27       182             30   6919.15   \n",
       "2    1001      surf      9          49       315             44  13314.82   \n",
       "3    1001      surf     10          65       393             53  22330.49   \n",
       "4    1001      surf     11          64       426             36  18504.30   \n",
       "5    1001      surf     12          56       412             44  19369.18   \n",
       "6    1002      surf     10          11        59             15   6552.01   \n",
       "7    1002      surf     11          55       386             32  19345.08   \n",
       "8    1002      surf     12          47       384             41  14396.24   \n",
       "9    1003      surf     12         149      1104             50  27044.14   \n",
       "\n",
       "   usd_monthly_pay  messages_included  mb_included  ...  usd_per_message  \\\n",
       "0               70               1000        30720  ...             0.01   \n",
       "1               20                 50        15360  ...             0.03   \n",
       "2               20                 50        15360  ...             0.03   \n",
       "3               20                 50        15360  ...             0.03   \n",
       "4               20                 50        15360  ...             0.03   \n",
       "5               20                 50        15360  ...             0.03   \n",
       "6               20                 50        15360  ...             0.03   \n",
       "7               20                 50        15360  ...             0.03   \n",
       "8               20                 50        15360  ...             0.03   \n",
       "9               20                 50        15360  ...             0.03   \n",
       "\n",
       "   usd_per_gb  usd_per_minute  min_exceeded  messages_exceeded  gb_exceeded  \\\n",
       "0           7            0.01             0                  0          0.0   \n",
       "1          10            0.03             0                  0          0.0   \n",
       "2          10            0.03             0                  0          0.0   \n",
       "3          10            0.03             0                  3          7.0   \n",
       "4          10            0.03             0                  0          4.0   \n",
       "5          10            0.03             0                  0          5.0   \n",
       "6          10            0.03             0                  0          0.0   \n",
       "7          10            0.03             0                  0          4.0   \n",
       "8          10            0.03             0                  0          0.0   \n",
       "9          10            0.03           604                  0         12.0   \n",
       "\n",
       "   exceeded_min_pay  exceeded_messages_pay  exceeded_gb_pay  total_pay  \n",
       "0              0.00                   0.00              0.0      70.00  \n",
       "1              0.00                   0.00              0.0      20.00  \n",
       "2              0.00                   0.00              0.0      20.00  \n",
       "3              0.00                   0.09             70.0      90.09  \n",
       "4              0.00                   0.00             40.0      60.00  \n",
       "5              0.00                   0.00             50.0      70.00  \n",
       "6              0.00                   0.00              0.0      20.00  \n",
       "7              0.00                   0.00             40.0      60.00  \n",
       "8              0.00                   0.00              0.0      20.00  \n",
       "9             18.12                   0.00            120.0     158.12  \n",
       "\n",
       "[10 rows x 21 columns]"
      ]
     },
     "metadata": {},
     "output_type": "display_data"
    }
   ],
   "source": [
    "display(user_monthly_summary.head(10))"
   ]
  },
  {
   "cell_type": "markdown",
   "metadata": {
    "id": "-jtyHzJb0q1I"
   },
   "source": [
    "## 📊**Estudia el comportamiento de usuario**\n",
    "---"
   ]
  },
  {
   "cell_type": "markdown",
   "metadata": {
    "id": "vtW4CJEe0q1J"
   },
   "source": [
    "### 📞**Llamadas**"
   ]
  },
  {
   "cell_type": "markdown",
   "metadata": {},
   "source": [
    "#### **Uso de minutos promedio** (Por cada plan y por cada mes)"
   ]
  },
  {
   "cell_type": "code",
   "execution_count": 47,
   "metadata": {
    "id": "Jf5v5--k0q1J"
   },
   "outputs": [],
   "source": [
    "# Obteniendo el uso de minutos promedio para cada mes en cada plan.\n",
    "min_used_mean = (\n",
    "    user_monthly_summary\n",
    "    .groupby(by=['plan_name', 'month'])\n",
    "    .agg({'min_used':'mean'})\n",
    "    .reset_index()\n",
    ")\n"
   ]
  },
  {
   "cell_type": "code",
   "execution_count": 48,
   "metadata": {},
   "outputs": [
    {
     "data": {
      "text/html": [
       "<div>\n",
       "<style scoped>\n",
       "    .dataframe tbody tr th:only-of-type {\n",
       "        vertical-align: middle;\n",
       "    }\n",
       "\n",
       "    .dataframe tbody tr th {\n",
       "        vertical-align: top;\n",
       "    }\n",
       "\n",
       "    .dataframe thead th {\n",
       "        text-align: right;\n",
       "    }\n",
       "</style>\n",
       "<table border=\"1\" class=\"dataframe\">\n",
       "  <thead>\n",
       "    <tr style=\"text-align: right;\">\n",
       "      <th>plan_name</th>\n",
       "      <th>surf</th>\n",
       "      <th>ultimate</th>\n",
       "    </tr>\n",
       "    <tr>\n",
       "      <th>month</th>\n",
       "      <th></th>\n",
       "      <th></th>\n",
       "    </tr>\n",
       "  </thead>\n",
       "  <tbody>\n",
       "    <tr>\n",
       "      <th>1</th>\n",
       "      <td>203.000000</td>\n",
       "      <td>193.500000</td>\n",
       "    </tr>\n",
       "    <tr>\n",
       "      <th>2</th>\n",
       "      <td>297.000000</td>\n",
       "      <td>470.333333</td>\n",
       "    </tr>\n",
       "    <tr>\n",
       "      <th>3</th>\n",
       "      <td>330.000000</td>\n",
       "      <td>304.250000</td>\n",
       "    </tr>\n",
       "    <tr>\n",
       "      <th>4</th>\n",
       "      <td>351.540000</td>\n",
       "      <td>336.857143</td>\n",
       "    </tr>\n",
       "    <tr>\n",
       "      <th>5</th>\n",
       "      <td>410.240000</td>\n",
       "      <td>406.241379</td>\n",
       "    </tr>\n",
       "    <tr>\n",
       "      <th>6</th>\n",
       "      <td>435.791667</td>\n",
       "      <td>387.444444</td>\n",
       "    </tr>\n",
       "    <tr>\n",
       "      <th>7</th>\n",
       "      <td>453.733333</td>\n",
       "      <td>427.067797</td>\n",
       "    </tr>\n",
       "    <tr>\n",
       "      <th>8</th>\n",
       "      <td>417.849057</td>\n",
       "      <td>421.436620</td>\n",
       "    </tr>\n",
       "    <tr>\n",
       "      <th>9</th>\n",
       "      <td>420.732984</td>\n",
       "      <td>437.511628</td>\n",
       "    </tr>\n",
       "    <tr>\n",
       "      <th>10</th>\n",
       "      <td>438.991379</td>\n",
       "      <td>455.028571</td>\n",
       "    </tr>\n",
       "    <tr>\n",
       "      <th>11</th>\n",
       "      <td>432.494585</td>\n",
       "      <td>448.730159</td>\n",
       "    </tr>\n",
       "    <tr>\n",
       "      <th>12</th>\n",
       "      <td>484.501608</td>\n",
       "      <td>465.261745</td>\n",
       "    </tr>\n",
       "  </tbody>\n",
       "</table>\n",
       "</div>"
      ],
      "text/plain": [
       "plan_name        surf    ultimate\n",
       "month                            \n",
       "1          203.000000  193.500000\n",
       "2          297.000000  470.333333\n",
       "3          330.000000  304.250000\n",
       "4          351.540000  336.857143\n",
       "5          410.240000  406.241379\n",
       "6          435.791667  387.444444\n",
       "7          453.733333  427.067797\n",
       "8          417.849057  421.436620\n",
       "9          420.732984  437.511628\n",
       "10         438.991379  455.028571\n",
       "11         432.494585  448.730159\n",
       "12         484.501608  465.261745"
      ]
     },
     "metadata": {},
     "output_type": "display_data"
    }
   ],
   "source": [
    "# Creando una pivot_table para después graficar.\n",
    "min_used_mean_pivot = (\n",
    "    min_used_mean\n",
    "    .pivot_table(\n",
    "        index='month', \n",
    "        columns='plan_name', \n",
    "        values='min_used'\n",
    "    )\n",
    ")\n",
    "\n",
    "display(min_used_mean_pivot)"
   ]
  },
  {
   "cell_type": "code",
   "execution_count": 49,
   "metadata": {},
   "outputs": [
    {
     "data": {
      "image/png": "[encoded data removed]",
      "text/plain": [
       "<Figure size 1000x300 with 1 Axes>"
      ]
     },
     "metadata": {},
     "output_type": "display_data"
    }
   ],
   "source": [
    "    # Graficando \n",
    "min_used_mean_pivot.plot(kind='bar',\n",
    "                         title='USO DE MINUTOS PROMEDIO MES x MES',\n",
    "                         xlabel='Mes',\n",
    "                         ylabel='Uso de minutos promedio',\n",
    "                         grid=True, figsize=[10,3])\n",
    "\n",
    "plt.legend(\n",
    "    title='Nombre de plan',\n",
    "    fontsize=10,\n",
    "    title_fontsize=11,\n",
    "    loc='lower center'\n",
    ")\n",
    "\n",
    "plt.show()"
   ]
  },
  {
   "cell_type": "markdown",
   "metadata": {},
   "source": [
    "#### **Número de minutos mensuales que necesitan los usuarios de cada plan**"
   ]
  },
  {
   "cell_type": "code",
   "execution_count": 50,
   "metadata": {},
   "outputs": [
    {
     "data": {
      "image/png": "[encoded data removed]",
      "text/plain": [
       "<Figure size 640x480 with 1 Axes>"
      ]
     },
     "metadata": {},
     "output_type": "display_data"
    }
   ],
   "source": [
    "    # Graficando a partir de datos filtrados por 'plan_name'\n",
    "user_monthly_summary.query('plan_name == \"surf\"')['min_used'].hist(alpha=0.7, label=\"Surf\")\n",
    "user_monthly_summary.query('plan_name == \"ultimate\"')['min_used'].hist(alpha=0.7, label=\"Ultimate\")\n",
    "    # Formateando gráfico\n",
    "plt.title(\"Distribución del uso de minutos por plan\", fontsize=14)\n",
    "plt.xlabel(\"Minutos usados\", fontsize=12)\n",
    "plt.ylabel(\"Frecuencia\", fontsize=12)\n",
    "plt.legend(title=\"Plan\", fontsize=10)\n",
    "\n",
    "plt.show()"
   ]
  },
  {
   "cell_type": "code",
   "execution_count": 51,
   "metadata": {
    "id": "oSndbAnt0q1K"
   },
   "outputs": [
    {
     "name": "stdout",
     "output_type": "stream",
     "text": [
      ">>> Medias de el uso de minutos mensual para cada plan:\n"
     ]
    },
    {
     "data": {
      "text/html": [
       "<div>\n",
       "<style scoped>\n",
       "    .dataframe tbody tr th:only-of-type {\n",
       "        vertical-align: middle;\n",
       "    }\n",
       "\n",
       "    .dataframe tbody tr th {\n",
       "        vertical-align: top;\n",
       "    }\n",
       "\n",
       "    .dataframe thead th {\n",
       "        text-align: right;\n",
       "    }\n",
       "</style>\n",
       "<table border=\"1\" class=\"dataframe\">\n",
       "  <thead>\n",
       "    <tr style=\"text-align: right;\">\n",
       "      <th></th>\n",
       "      <th>min_used_mean</th>\n",
       "    </tr>\n",
       "    <tr>\n",
       "      <th>plan_name</th>\n",
       "      <th></th>\n",
       "    </tr>\n",
       "  </thead>\n",
       "  <tbody>\n",
       "    <tr>\n",
       "      <th>surf</th>\n",
       "      <td>389.656218</td>\n",
       "    </tr>\n",
       "    <tr>\n",
       "      <th>ultimate</th>\n",
       "      <td>396.138568</td>\n",
       "    </tr>\n",
       "  </tbody>\n",
       "</table>\n",
       "</div>"
      ],
      "text/plain": [
       "           min_used_mean\n",
       "plan_name               \n",
       "surf          389.656218\n",
       "ultimate      396.138568"
      ]
     },
     "metadata": {},
     "output_type": "display_data"
    },
    {
     "name": "stdout",
     "output_type": "stream",
     "text": [
      ">>> Varianzas de el uso de minutos mensual para cada plan:\n"
     ]
    },
    {
     "data": {
      "text/html": [
       "<div>\n",
       "<style scoped>\n",
       "    .dataframe tbody tr th:only-of-type {\n",
       "        vertical-align: middle;\n",
       "    }\n",
       "\n",
       "    .dataframe tbody tr th {\n",
       "        vertical-align: top;\n",
       "    }\n",
       "\n",
       "    .dataframe thead th {\n",
       "        text-align: right;\n",
       "    }\n",
       "</style>\n",
       "<table border=\"1\" class=\"dataframe\">\n",
       "  <thead>\n",
       "    <tr style=\"text-align: right;\">\n",
       "      <th></th>\n",
       "      <th>plan_name</th>\n",
       "      <th>min_used_var</th>\n",
       "      <th>min_used_std</th>\n",
       "    </tr>\n",
       "  </thead>\n",
       "  <tbody>\n",
       "    <tr>\n",
       "      <th>0</th>\n",
       "      <td>surf</td>\n",
       "      <td>5843.400884</td>\n",
       "      <td>76.442141</td>\n",
       "    </tr>\n",
       "    <tr>\n",
       "      <th>1</th>\n",
       "      <td>ultimate</td>\n",
       "      <td>6085.246960</td>\n",
       "      <td>78.007993</td>\n",
       "    </tr>\n",
       "  </tbody>\n",
       "</table>\n",
       "</div>"
      ],
      "text/plain": [
       "  plan_name  min_used_var  min_used_std\n",
       "0      surf   5843.400884     76.442141\n",
       "1  ultimate   6085.246960     78.007993"
      ]
     },
     "metadata": {},
     "output_type": "display_data"
    }
   ],
   "source": [
    "# Calcula la media y la varianza de el uso de minutos mensual de llamadas.\n",
    "print(\">>> Medias de el uso de minutos mensual para cada plan:\")\n",
    "display(min_used_mean.groupby('plan_name').agg(min_used_mean = ('min_used','mean')))\n",
    "\n",
    "# Varianza de la duración mensual de llamadas para cada plan.\n",
    "surf_var = np.var(min_used_mean.query('plan_name == \"surf\"')['min_used'])\n",
    "ultimate_var = np.var(min_used_mean.query('plan_name == \"ultimate\"')['min_used'])\n",
    "\n",
    "min_used_var = pd.DataFrame({\n",
    "    'plan_name':['surf', 'ultimate'],\n",
    "    'min_used_var':[surf_var, ultimate_var]\n",
    "})\n",
    "# calculando desviación estándar\n",
    "min_used_var['min_used_std'] = np.sqrt(min_used_var['min_used_var'])\n",
    "\n",
    "print(\">>> Varianzas de el uso de minutos mensual para cada plan:\")\n",
    "display(min_used_var)"
   ]
  },
  {
   "cell_type": "code",
   "execution_count": 52,
   "metadata": {
    "id": "nZzoRUKc0q1K"
   },
   "outputs": [
    {
     "data": {
      "image/png": "[encoded data removed]",
      "text/plain": [
       "<Figure size 640x480 with 1 Axes>"
      ]
     },
     "metadata": {},
     "output_type": "display_data"
    }
   ],
   "source": [
    "# Traza un diagrama de caja para visualizar la distribución de el uso de minutos mensual\n",
    "sns.boxplot(x='plan_name', y='min_used', data=min_used_mean)\n",
    "\n",
    "    # Formateando\n",
    "plt.title(\"Distribución de duración de llamadas por plan\")\n",
    "plt.ylabel('Duración (min)')\n",
    "plt.xlabel('Nombre de plan')\n",
    "plt.grid()\n",
    "plt.show()"
   ]
  },
  {
   "cell_type": "markdown",
   "metadata": {
    "id": "r627zBO50q1K"
   },
   "source": [
    "#### **Análisis de llamadas por plan:**\n"
   ]
  },
  {
   "cell_type": "markdown",
   "metadata": {},
   "source": [
    ">**1. Uso de minutos promedio por mes:**  \n",
    ">  \n",
    ">- Se observa que los usuarios de ambos planes presentan promedios mensuales de minutos muy similares a lo largo de los 12 meses, con excepción de febrero, donde el plan Ultimate registró un consumo considerablemente mayor.  \n",
    ">  \n",
    ">- El promedio mensual de minutos por usuario muestra una tendencia ascendente con el paso de los meses.  \n",
    "\n",
    ">**2. Distribución del uso de minutos por plan:**  \n",
    ">  \n",
    ">- Hay más usuarios en el plan Surf que en el plan Ultimate.  \n",
    ">  \n",
    ">- En el plan Surf, el uso mensual de minutos por cliente se concentra principalmente entre 300 y 600 minutos.  \n",
    ">  \n",
    ">- En el plan Ultimate, el rango más frecuente de uso mensual por cliente está entre 410 y 550 minutos.  \n",
    "\n",
    ">**3. Media y varianza del uso mensual de minutos en llamadas:**  \n",
    ">  \n",
    ">- El promedio de minutos utilizados por los usuarios es muy similar en ambos planes:  \n",
    ">  \n",
    "> Surf: 389.65 minutos / Ultimate: 396.13 minutos  \n",
    ">  \n",
    ">- La varianza del uso de minutos también es alta en ambos planes:  \n",
    ">  \n",
    "> Surf: 5843.4 / Ultimate: 6085.24  \n",
    "\n",
    ">**4. Identificación de valores atípicos (outliers):**  \n",
    ">  \n",
    ">- El diagrama de caja revela la presencia de un valor atípico en ambos planes, correspondiente al mes de enero.  \n"
   ]
  },
  {
   "cell_type": "markdown",
   "metadata": {
    "id": "8idKy8Wh0q1L"
   },
   "source": [
    "### ✉️ **Mensajes**"
   ]
  },
  {
   "cell_type": "markdown",
   "metadata": {},
   "source": [
    "#### **Comprara el número de mensajes que tienden a enviar cada mes los usuarios de cada plan**"
   ]
  },
  {
   "cell_type": "code",
   "execution_count": 53,
   "metadata": {
    "id": "NXLxiTit0q1L"
   },
   "outputs": [
    {
     "data": {
      "text/html": [
       "<div>\n",
       "<style scoped>\n",
       "    .dataframe tbody tr th:only-of-type {\n",
       "        vertical-align: middle;\n",
       "    }\n",
       "\n",
       "    .dataframe tbody tr th {\n",
       "        vertical-align: top;\n",
       "    }\n",
       "\n",
       "    .dataframe thead th {\n",
       "        text-align: right;\n",
       "    }\n",
       "</style>\n",
       "<table border=\"1\" class=\"dataframe\">\n",
       "  <thead>\n",
       "    <tr style=\"text-align: right;\">\n",
       "      <th>plan_name</th>\n",
       "      <th>surf</th>\n",
       "      <th>ultimate</th>\n",
       "    </tr>\n",
       "    <tr>\n",
       "      <th>month</th>\n",
       "      <th></th>\n",
       "      <th></th>\n",
       "    </tr>\n",
       "  </thead>\n",
       "  <tbody>\n",
       "    <tr>\n",
       "      <th>1</th>\n",
       "      <td>10.500000</td>\n",
       "      <td>15.500000</td>\n",
       "    </tr>\n",
       "    <tr>\n",
       "      <th>2</th>\n",
       "      <td>12.000000</td>\n",
       "      <td>23.166667</td>\n",
       "    </tr>\n",
       "    <tr>\n",
       "      <th>3</th>\n",
       "      <td>15.260870</td>\n",
       "      <td>20.250000</td>\n",
       "    </tr>\n",
       "    <tr>\n",
       "      <th>4</th>\n",
       "      <td>17.400000</td>\n",
       "      <td>22.047619</td>\n",
       "    </tr>\n",
       "    <tr>\n",
       "      <th>5</th>\n",
       "      <td>24.386667</td>\n",
       "      <td>32.103448</td>\n",
       "    </tr>\n",
       "    <tr>\n",
       "      <th>6</th>\n",
       "      <td>25.281250</td>\n",
       "      <td>30.533333</td>\n",
       "    </tr>\n",
       "    <tr>\n",
       "      <th>7</th>\n",
       "      <td>27.025000</td>\n",
       "      <td>32.830508</td>\n",
       "    </tr>\n",
       "    <tr>\n",
       "      <th>8</th>\n",
       "      <td>28.855346</td>\n",
       "      <td>38.478873</td>\n",
       "    </tr>\n",
       "    <tr>\n",
       "      <th>9</th>\n",
       "      <td>30.376963</td>\n",
       "      <td>37.895349</td>\n",
       "    </tr>\n",
       "    <tr>\n",
       "      <th>10</th>\n",
       "      <td>33.267241</td>\n",
       "      <td>39.800000</td>\n",
       "    </tr>\n",
       "    <tr>\n",
       "      <th>11</th>\n",
       "      <td>32.115523</td>\n",
       "      <td>38.579365</td>\n",
       "    </tr>\n",
       "    <tr>\n",
       "      <th>12</th>\n",
       "      <td>38.212219</td>\n",
       "      <td>45.087248</td>\n",
       "    </tr>\n",
       "  </tbody>\n",
       "</table>\n",
       "</div>"
      ],
      "text/plain": [
       "plan_name       surf   ultimate\n",
       "month                          \n",
       "1          10.500000  15.500000\n",
       "2          12.000000  23.166667\n",
       "3          15.260870  20.250000\n",
       "4          17.400000  22.047619\n",
       "5          24.386667  32.103448\n",
       "6          25.281250  30.533333\n",
       "7          27.025000  32.830508\n",
       "8          28.855346  38.478873\n",
       "9          30.376963  37.895349\n",
       "10         33.267241  39.800000\n",
       "11         32.115523  38.579365\n",
       "12         38.212219  45.087248"
      ]
     },
     "metadata": {},
     "output_type": "display_data"
    }
   ],
   "source": [
    "# Comprara el número de mensajes que tienden a enviar cada mes los usuarios de cada plan\n",
    "messages_used_mean_month = (\n",
    "    user_monthly_summary\n",
    "    .groupby(by=['plan_name', 'month'])\n",
    "    .agg(messages_used_mean=('messages_used','mean'))\n",
    "    .reset_index()\n",
    ")\n",
    "# Crando pivot table\n",
    "messages_used_mean_month_pivot = (\n",
    "    messages_used_mean_month\n",
    "    .pivot_table(\n",
    "        index='month',\n",
    "        columns='plan_name',\n",
    "        values='messages_used_mean'\n",
    "    )\n",
    ")\n",
    "\n",
    "display(messages_used_mean_month_pivot)\n"
   ]
  },
  {
   "cell_type": "code",
   "execution_count": 54,
   "metadata": {},
   "outputs": [
    {
     "data": {
      "image/png": "[encoded data removed]",
      "text/plain": [
       "<Figure size 1000x300 with 1 Axes>"
      ]
     },
     "metadata": {},
     "output_type": "display_data"
    }
   ],
   "source": [
    "# Graficando \n",
    "messages_used_mean_month_pivot.plot(kind='bar',\n",
    "                                    title='PROMEDIO DE MENSAJES ENVIADOS POR USUARIO MES A MES',\n",
    "                                    xlabel='Mes', ylabel='Mensajes enviados por usuario',\n",
    "                                    grid=True, figsize=[10,3])\n",
    "\n",
    "plt.legend(\n",
    "    title='Nombre de plan',\n",
    "    fontsize=10,\n",
    "    title_fontsize=11\n",
    ")\n",
    "\n",
    "plt.show()"
   ]
  },
  {
   "cell_type": "markdown",
   "metadata": {},
   "source": [
    "#### **Compara el número de mensajes mensuales que necesitan los usuarios de cada plan.**"
   ]
  },
  {
   "cell_type": "code",
   "execution_count": 55,
   "metadata": {},
   "outputs": [
    {
     "data": {
      "image/png": "[encoded data removed]",
      "text/plain": [
       "<Figure size 640x480 with 1 Axes>"
      ]
     },
     "metadata": {},
     "output_type": "display_data"
    }
   ],
   "source": [
    "# Graficando histograma\n",
    "user_monthly_summary.query('plan_name == \"surf\"')['messages_used'].hist(alpha=0.7, label=\"Surf\")\n",
    "user_monthly_summary.query('plan_name == \"ultimate\"')['messages_used'].hist(alpha=0.7, label=\"Ultimate\")\n",
    "\n",
    "plt.title(\"Distribución del uso de mensajes por plan\", fontsize=14)\n",
    "plt.xlabel(\"Mensajes usados\", fontsize=12)\n",
    "plt.ylabel(\"Frecuencia\", fontsize=12)\n",
    "plt.legend(title=\"Plan\", fontsize=10)\n",
    "\n",
    "plt.show()"
   ]
  },
  {
   "cell_type": "markdown",
   "metadata": {},
   "source": [
    "#### **Media y varianza de mensajes usados por usuario mensual.**"
   ]
  },
  {
   "cell_type": "code",
   "execution_count": 56,
   "metadata": {},
   "outputs": [
    {
     "name": "stdout",
     "output_type": "stream",
     "text": [
      ">>> Medias de mensajes usados por usuario mensual para cada plan:\n"
     ]
    },
    {
     "data": {
      "text/html": [
       "<div>\n",
       "<style scoped>\n",
       "    .dataframe tbody tr th:only-of-type {\n",
       "        vertical-align: middle;\n",
       "    }\n",
       "\n",
       "    .dataframe tbody tr th {\n",
       "        vertical-align: top;\n",
       "    }\n",
       "\n",
       "    .dataframe thead th {\n",
       "        text-align: right;\n",
       "    }\n",
       "</style>\n",
       "<table border=\"1\" class=\"dataframe\">\n",
       "  <thead>\n",
       "    <tr style=\"text-align: right;\">\n",
       "      <th></th>\n",
       "      <th>plan_name</th>\n",
       "      <th>messages_used_mean</th>\n",
       "    </tr>\n",
       "  </thead>\n",
       "  <tbody>\n",
       "    <tr>\n",
       "      <th>0</th>\n",
       "      <td>surf</td>\n",
       "      <td>30.897735</td>\n",
       "    </tr>\n",
       "    <tr>\n",
       "      <th>1</th>\n",
       "      <td>ultimate</td>\n",
       "      <td>37.725105</td>\n",
       "    </tr>\n",
       "  </tbody>\n",
       "</table>\n",
       "</div>"
      ],
      "text/plain": [
       "  plan_name  messages_used_mean\n",
       "0      surf           30.897735\n",
       "1  ultimate           37.725105"
      ]
     },
     "metadata": {},
     "output_type": "display_data"
    },
    {
     "name": "stdout",
     "output_type": "stream",
     "text": [
      ">>> Varianzas de mensajes usados por usuario mensual para cada plan:\n"
     ]
    },
    {
     "data": {
      "text/html": [
       "<div>\n",
       "<style scoped>\n",
       "    .dataframe tbody tr th:only-of-type {\n",
       "        vertical-align: middle;\n",
       "    }\n",
       "\n",
       "    .dataframe tbody tr th {\n",
       "        vertical-align: top;\n",
       "    }\n",
       "\n",
       "    .dataframe thead th {\n",
       "        text-align: right;\n",
       "    }\n",
       "</style>\n",
       "<table border=\"1\" class=\"dataframe\">\n",
       "  <thead>\n",
       "    <tr style=\"text-align: right;\">\n",
       "      <th></th>\n",
       "      <th>plan_name</th>\n",
       "      <th>messages_used_var</th>\n",
       "      <th>messages_used_std</th>\n",
       "    </tr>\n",
       "  </thead>\n",
       "  <tbody>\n",
       "    <tr>\n",
       "      <th>0</th>\n",
       "      <td>surf</td>\n",
       "      <td>1131.216726</td>\n",
       "      <td>33.633565</td>\n",
       "    </tr>\n",
       "    <tr>\n",
       "      <th>1</th>\n",
       "      <td>ultimate</td>\n",
       "      <td>1208.446172</td>\n",
       "      <td>34.762712</td>\n",
       "    </tr>\n",
       "  </tbody>\n",
       "</table>\n",
       "</div>"
      ],
      "text/plain": [
       "  plan_name  messages_used_var  messages_used_std\n",
       "0      surf        1131.216726          33.633565\n",
       "1  ultimate        1208.446172          34.762712"
      ]
     },
     "metadata": {},
     "output_type": "display_data"
    }
   ],
   "source": [
    "# Calcula la media y la varianza de mensajes usados por usuario mensual.\n",
    "    # Calculando la media de los mensajes usados por usuario mensual para cada plan.\n",
    "messages_used_mean = (\n",
    "    user_monthly_summary\n",
    "    .groupby(by='plan_name', as_index=False)\n",
    "    .agg(messages_used_mean=('messages_used', 'mean'))\n",
    ")\n",
    "\n",
    "print(\">>> Medias de mensajes usados por usuario mensual para cada plan:\")\n",
    "display(messages_used_mean)\n",
    "\n",
    "# Varianza de los mensajes usados por usuario mensual para cada plan.\n",
    "surf_messages_used_var = np.var(user_monthly_summary.query('plan_name == \"surf\"')['messages_used'])\n",
    "ultimate_messages_used_var = np.var(user_monthly_summary.query('plan_name == \"ultimate\"')['messages_used'])\n",
    "\n",
    "# Creando dataframe para mostrar resultados\n",
    "messages_used_var = pd.DataFrame({\n",
    "    'plan_name':['surf', 'ultimate'],\n",
    "    'messages_used_var':[surf_messages_used_var, ultimate_messages_used_var]\n",
    "})\n",
    "# Calculando desviación estándar\n",
    "messages_used_var['messages_used_std'] = np.sqrt(messages_used_var['messages_used_var'])\n",
    "\n",
    "print(\">>> Varianzas de mensajes usados por usuario mensual para cada plan:\")\n",
    "display(messages_used_var)\n"
   ]
  },
  {
   "cell_type": "code",
   "execution_count": 57,
   "metadata": {
    "id": "dtFwCGAp0q1M"
   },
   "outputs": [
    {
     "data": {
      "image/png": "[encoded data removed]",
      "text/plain": [
       "<Figure size 640x480 with 1 Axes>"
      ]
     },
     "metadata": {},
     "output_type": "display_data"
    }
   ],
   "source": [
    "# Traza un diagrama de caja para visualizar la distribución de los mensajes usados por usuario mensual para cada plan.\n",
    "sns.boxplot(x='plan_name', y='messages_used', data=user_monthly_summary)\n",
    "\n",
    "    # Formateando\n",
    "plt.title(\"Distribución de mensajes usados por usuario al mes para cada plan\")\n",
    "plt.ylabel('Mensajes')\n",
    "plt.xlabel('Nombre de plan')\n",
    "plt.grid()\n",
    "plt.show()"
   ]
  },
  {
   "cell_type": "markdown",
   "metadata": {},
   "source": [
    "#### **Análisis de mensajes enviados por usuario:**\n"
   ]
  },
  {
   "cell_type": "markdown",
   "metadata": {},
   "source": [
    ">**1. Promedio de mensajes enviados mes a mes:**\n",
    ">\n",
    ">- La cantidad promedio de mensajes enviados por usuario sigue una tendencia ascendente a lo largo del año.\n",
    ">\n",
    ">- En todos los meses, los usuarios del plan Ultimate enviaron más mensajes en promedio que los del plan Surf.\n",
    "\n",
    ">**2. Distribución del uso de mensajes mensuales por usuario:**\n",
    ">\n",
    ">- Se observa una gran diferencia en la cantidad de mensajes enviados por los usuarios del plan surf pero, como ya vimos, esto se debe a que existen muchos mas usuarios de este plan.\n",
    ">\n",
    ">- En promedio, los usuarios del plan Ultimate envían más mensajes.\n",
    ">\n",
    ">- En el plan Surf, el número más común de mensajes enviados por usuario al mes está entre 0 y 25.\n",
    ">\n",
    ">- En el plan Ultimate, el rango más frecuente de mensajes mensuales por usuario es de 0 a aproximadamente 20.\n",
    "\n",
    ">**3. Media y varianza del uso de mensajes mensuales:**\n",
    ">\n",
    ">- En promedio, los usuarios del plan Ultimate envían más mensajes que los del plan Surf:\n",
    ">\n",
    ">Surf: 30.90 mensajes / Ultimate: 37.73 mensajes\n",
    ">\n",
    ">- La varianza del uso de mensajes mensuales es similar en ambos planes, aunque con una ligera diferencia:\n",
    ">\n",
    ">Surf: 1131.21 / Ultimate: 1208.44\n",
    "\n",
    ">**4. Identificación de valores atípicos (outliers):**\n",
    ">\n",
    ">- En ambos planes se detectaron valores atípicos en la cantidad de mensajes enviados.\n",
    ">\n",
    ">- En el plan Surf, los outliers son significativamente más numerosos, lo que podría estar afectando de manera importante el promedio calculado.\n",
    ">\n",
    ">- Es preciso realizar un análisis adicional excluyendo estos valores para evaluar su impacto en la distribución y en los resultados generales."
   ]
  },
  {
   "cell_type": "markdown",
   "metadata": {
    "id": "42YSypXz0q1M"
   },
   "source": [
    "### 🌐 **Internet**"
   ]
  },
  {
   "cell_type": "markdown",
   "metadata": {},
   "source": [
    "#### **Compara la cantidad de tráfico de Internet consumido al mes por usuarios por plan.**\n"
   ]
  },
  {
   "cell_type": "code",
   "execution_count": 58,
   "metadata": {},
   "outputs": [
    {
     "data": {
      "text/html": [
       "<div>\n",
       "<style scoped>\n",
       "    .dataframe tbody tr th:only-of-type {\n",
       "        vertical-align: middle;\n",
       "    }\n",
       "\n",
       "    .dataframe tbody tr th {\n",
       "        vertical-align: top;\n",
       "    }\n",
       "\n",
       "    .dataframe thead th {\n",
       "        text-align: right;\n",
       "    }\n",
       "</style>\n",
       "<table border=\"1\" class=\"dataframe\">\n",
       "  <thead>\n",
       "    <tr style=\"text-align: right;\">\n",
       "      <th>plan_name</th>\n",
       "      <th>surf</th>\n",
       "      <th>ultimate</th>\n",
       "    </tr>\n",
       "    <tr>\n",
       "      <th>month</th>\n",
       "      <th></th>\n",
       "      <th></th>\n",
       "    </tr>\n",
       "  </thead>\n",
       "  <tbody>\n",
       "    <tr>\n",
       "      <th>1</th>\n",
       "      <td>4874.860000</td>\n",
       "      <td>6918.092500</td>\n",
       "    </tr>\n",
       "    <tr>\n",
       "      <th>2</th>\n",
       "      <td>12178.843333</td>\n",
       "      <td>17884.958333</td>\n",
       "    </tr>\n",
       "    <tr>\n",
       "      <th>3</th>\n",
       "      <td>13345.440000</td>\n",
       "      <td>18321.518333</td>\n",
       "    </tr>\n",
       "    <tr>\n",
       "      <th>4</th>\n",
       "      <td>11984.203000</td>\n",
       "      <td>16121.654762</td>\n",
       "    </tr>\n",
       "    <tr>\n",
       "      <th>5</th>\n",
       "      <td>14201.487067</td>\n",
       "      <td>16624.482414</td>\n",
       "    </tr>\n",
       "    <tr>\n",
       "      <th>6</th>\n",
       "      <td>15308.450937</td>\n",
       "      <td>15920.383333</td>\n",
       "    </tr>\n",
       "    <tr>\n",
       "      <th>7</th>\n",
       "      <td>16785.430500</td>\n",
       "      <td>16344.744407</td>\n",
       "    </tr>\n",
       "    <tr>\n",
       "      <th>8</th>\n",
       "      <td>16870.108365</td>\n",
       "      <td>17814.720141</td>\n",
       "    </tr>\n",
       "    <tr>\n",
       "      <th>9</th>\n",
       "      <td>16441.597801</td>\n",
       "      <td>16969.869535</td>\n",
       "    </tr>\n",
       "    <tr>\n",
       "      <th>10</th>\n",
       "      <td>17240.074914</td>\n",
       "      <td>17780.292000</td>\n",
       "    </tr>\n",
       "    <tr>\n",
       "      <th>11</th>\n",
       "      <td>16290.384043</td>\n",
       "      <td>16999.453095</td>\n",
       "    </tr>\n",
       "    <tr>\n",
       "      <th>12</th>\n",
       "      <td>17980.815305</td>\n",
       "      <td>18321.065436</td>\n",
       "    </tr>\n",
       "  </tbody>\n",
       "</table>\n",
       "</div>"
      ],
      "text/plain": [
       "plan_name          surf      ultimate\n",
       "month                                \n",
       "1           4874.860000   6918.092500\n",
       "2          12178.843333  17884.958333\n",
       "3          13345.440000  18321.518333\n",
       "4          11984.203000  16121.654762\n",
       "5          14201.487067  16624.482414\n",
       "6          15308.450937  15920.383333\n",
       "7          16785.430500  16344.744407\n",
       "8          16870.108365  17814.720141\n",
       "9          16441.597801  16969.869535\n",
       "10         17240.074914  17780.292000\n",
       "11         16290.384043  16999.453095\n",
       "12         17980.815305  18321.065436"
      ]
     },
     "metadata": {},
     "output_type": "display_data"
    },
    {
     "data": {
      "image/png": "[encoded data removed]",
      "text/plain": [
       "<Figure size 1000x300 with 1 Axes>"
      ]
     },
     "metadata": {},
     "output_type": "display_data"
    }
   ],
   "source": [
    "# Compara la cantidad de tráfico de Internet consumido al mes por usuarios por plan.\n",
    "mb_used_mean_month = (\n",
    "    user_monthly_summary\n",
    "    .groupby(by=['plan_name', 'month'])\n",
    "    .agg(mb_used_mean = ('mb_used','mean'))\n",
    "    .reset_index()\n",
    ")\n",
    "mb_used_mean_month_pivot = (\n",
    "    mb_used_mean_month\n",
    "    .pivot_table(\n",
    "        index='month',\n",
    "        columns='plan_name',\n",
    "        values='mb_used_mean'\n",
    "    )\n",
    ")\n",
    "display(mb_used_mean_month_pivot)\n",
    "\n",
    "    # Graficando \n",
    "mb_used_mean_month_pivot.plot(kind='bar', \n",
    "                               title='PROMEDIO DE MB CONSUMIDOS POR USUARIO MES A MES', \n",
    "                               xlabel='Mes', ylabel='Megabytes consumidos por usuario', \n",
    "                               grid=True, figsize=[10,3],\n",
    "                               ylim=(2500, None))\n",
    "\n",
    "plt.legend(\n",
    "    title='Nombre de plan',\n",
    "    fontsize=10,\n",
    "    title_fontsize=11\n",
    ")\n",
    "\n",
    "plt.show()"
   ]
  },
  {
   "cell_type": "markdown",
   "metadata": {},
   "source": [
    "#### **Compara la cantidad de tráfico de Internet consumido al mes por usuarios por plan.**"
   ]
  },
  {
   "cell_type": "code",
   "execution_count": 59,
   "metadata": {
    "id": "wnh8jYXi0q1N"
   },
   "outputs": [
    {
     "data": {
      "image/png": "[encoded data removed]",
      "text/plain": [
       "<Figure size 640x480 with 1 Axes>"
      ]
     },
     "metadata": {},
     "output_type": "display_data"
    }
   ],
   "source": [
    "# Compara la cantidad de tráfico de Internet consumido al mes por usuarios por plan. Traza un histograma.\n",
    "    # Graficando\n",
    "user_monthly_summary.query('plan_name == \"surf\"')['mb_used'].hist(alpha=0.7, label=\"Surf\")\n",
    "user_monthly_summary.query('plan_name == \"ultimate\"')['mb_used'].hist(alpha=0.7, label=\"Ultimate\")\n",
    "\n",
    "plt.title(\"Distribución del uso de megabytes por plan\", fontsize=14)\n",
    "plt.xlabel(\"Megabytes usados\", fontsize=12)\n",
    "plt.ylabel(\"Frecuencia\", fontsize=12)\n",
    "plt.legend(title=\"Plan\", fontsize=10)\n",
    "\n",
    "plt.show()"
   ]
  },
  {
   "cell_type": "markdown",
   "metadata": {},
   "source": [
    "#### **Media y varianza de megabytes usados por usuario mensual.**"
   ]
  },
  {
   "cell_type": "code",
   "execution_count": 60,
   "metadata": {
    "id": "5VlyJ9ry0q1N"
   },
   "outputs": [
    {
     "name": "stdout",
     "output_type": "stream",
     "text": [
      ">>> Medias de megabytes usados por usuario mensual para cada plan:\n"
     ]
    },
    {
     "data": {
      "text/html": [
       "<div>\n",
       "<style scoped>\n",
       "    .dataframe tbody tr th:only-of-type {\n",
       "        vertical-align: middle;\n",
       "    }\n",
       "\n",
       "    .dataframe tbody tr th {\n",
       "        vertical-align: top;\n",
       "    }\n",
       "\n",
       "    .dataframe thead th {\n",
       "        text-align: right;\n",
       "    }\n",
       "</style>\n",
       "<table border=\"1\" class=\"dataframe\">\n",
       "  <thead>\n",
       "    <tr style=\"text-align: right;\">\n",
       "      <th></th>\n",
       "      <th>plan_name</th>\n",
       "      <th>mb_used_mean</th>\n",
       "    </tr>\n",
       "  </thead>\n",
       "  <tbody>\n",
       "    <tr>\n",
       "      <th>0</th>\n",
       "      <td>surf</td>\n",
       "      <td>16505.727372</td>\n",
       "    </tr>\n",
       "    <tr>\n",
       "      <th>1</th>\n",
       "      <td>ultimate</td>\n",
       "      <td>17278.003731</td>\n",
       "    </tr>\n",
       "  </tbody>\n",
       "</table>\n",
       "</div>"
      ],
      "text/plain": [
       "  plan_name  mb_used_mean\n",
       "0      surf  16505.727372\n",
       "1  ultimate  17278.003731"
      ]
     },
     "metadata": {},
     "output_type": "display_data"
    },
    {
     "name": "stdout",
     "output_type": "stream",
     "text": [
      ">>> Varianzas de megabytes usados por usuario mensual para cada plan:\n"
     ]
    },
    {
     "data": {
      "text/html": [
       "<div>\n",
       "<style scoped>\n",
       "    .dataframe tbody tr th:only-of-type {\n",
       "        vertical-align: middle;\n",
       "    }\n",
       "\n",
       "    .dataframe tbody tr th {\n",
       "        vertical-align: top;\n",
       "    }\n",
       "\n",
       "    .dataframe thead th {\n",
       "        text-align: right;\n",
       "    }\n",
       "</style>\n",
       "<table border=\"1\" class=\"dataframe\">\n",
       "  <thead>\n",
       "    <tr style=\"text-align: right;\">\n",
       "      <th></th>\n",
       "      <th>plan_name</th>\n",
       "      <th>mb_used_var</th>\n",
       "      <th>mb_used_std</th>\n",
       "    </tr>\n",
       "  </thead>\n",
       "  <tbody>\n",
       "    <tr>\n",
       "      <th>0</th>\n",
       "      <td>surf</td>\n",
       "      <td>6.154836e+07</td>\n",
       "      <td>7845.276084</td>\n",
       "    </tr>\n",
       "    <tr>\n",
       "      <th>1</th>\n",
       "      <td>ultimate</td>\n",
       "      <td>6.012780e+07</td>\n",
       "      <td>7754.211704</td>\n",
       "    </tr>\n",
       "  </tbody>\n",
       "</table>\n",
       "</div>"
      ],
      "text/plain": [
       "  plan_name   mb_used_var  mb_used_std\n",
       "0      surf  6.154836e+07  7845.276084\n",
       "1  ultimate  6.012780e+07  7754.211704"
      ]
     },
     "metadata": {},
     "output_type": "display_data"
    }
   ],
   "source": [
    "# Calcula la media y la varianza de megabytes usados por usuario mensual.\n",
    "    # Calculando la media de los megabytes usados por usuario mensual para cada plan.\n",
    "mb_used_mean = (\n",
    "    user_monthly_summary\n",
    "    .groupby(by='plan_name', as_index=False)\n",
    "    .agg(mb_used_mean=('mb_used', 'mean'))\n",
    ")\n",
    "\n",
    "print(\">>> Medias de megabytes usados por usuario mensual para cada plan:\")\n",
    "display(mb_used_mean)\n",
    "\n",
    "    # Varianza de los megabytes usados por usuario mensual para cada plan.\n",
    "surf_mb_used_var = np.var(user_monthly_summary.query('plan_name == \"surf\"')['mb_used'])\n",
    "ultimate_mb_used_var = np.var(user_monthly_summary.query('plan_name == \"ultimate\"')['mb_used'])\n",
    "\n",
    "mb_used_var = pd.DataFrame({\n",
    "    'plan_name':['surf', 'ultimate'],\n",
    "    'mb_used_var':[surf_mb_used_var, ultimate_mb_used_var]\n",
    "})\n",
    "    # Calculando desviación estándar\n",
    "mb_used_var['mb_used_std'] = np.sqrt(mb_used_var['mb_used_var'])\n",
    "\n",
    "print(\">>> Varianzas de megabytes usados por usuario mensual para cada plan:\")\n",
    "display(mb_used_var)"
   ]
  },
  {
   "cell_type": "code",
   "execution_count": 61,
   "metadata": {},
   "outputs": [
    {
     "data": {
      "image/png": "[encoded data removed]",
      "text/plain": [
       "<Figure size 640x480 with 1 Axes>"
      ]
     },
     "metadata": {},
     "output_type": "display_data"
    }
   ],
   "source": [
    "# Traza un diagrama de caja para visualizar la distribución de los megabytes usados por usuario mensual para cada plan.\n",
    "sns.boxplot(x='plan_name', y='mb_used', data=user_monthly_summary)\n",
    "\n",
    "    # Formateando\n",
    "plt.title(\"Distribución de megabytes usados por usuario al mes para cada plan\")\n",
    "plt.ylabel('Megabytes')\n",
    "plt.xlabel('Nombre de plan')\n",
    "plt.grid()\n",
    "plt.show()"
   ]
  },
  {
   "cell_type": "markdown",
   "metadata": {},
   "source": [
    "#### **Análisis de consumo de internet por usuario:**"
   ]
  },
  {
   "cell_type": "markdown",
   "metadata": {
    "id": "UN9zwuMP0q1N"
   },
   "source": [
    ">**1. Consumo promedio de megabytes mes a mes:**\n",
    ">\n",
    ">- Durante los primeros cinco meses del año, el consumo promedio de datos fue significativamente mayor en el plan Ultimate en comparación con el plan Surf.\n",
    ">\n",
    ">- A partir del sexto mes, los promedios de consumo se equilibraron entre ambos planes.\n",
    ">\n",
    ">- En general, los usuarios del plan Ultimate consumen más megabytes en promedio, excepto en julio, cuando el consumo del plan Surf superó al de Ultimate.\n",
    "\n",
    ">**2. Distribución del consumo mensual de megabytes por usuario:**\n",
    ">\n",
    ">- En promedio, los usuarios del plan Ultimate consumen más datos mes a mes.\n",
    ">\n",
    ">- En el plan Surf, el consumo mensual más frecuente se encuentra entre 14,000 y 21,000 MB.\n",
    ">\n",
    ">- En el plan Ultimate, el rango más común de consumo mensual está entre 14,000 y 19,000 MB.\n",
    "\n",
    ">**3. Media y varianza del consumo mensual de datos:**\n",
    ">\n",
    ">- En promedio, los usuarios del plan Ultimate consumen más datos que los del plan Surf:\n",
    ">\n",
    ">Surf: 16,505.73 MB / Ultimate: 17,278.00 MB\n",
    ">\n",
    ">- La varianza del consumo de megabytes es similar en ambos planes:\n",
    ">\n",
    ">Surf: 6.15 × 10⁷ / Ultimate: 6.01 × 10⁷\n",
    "\n",
    ">**4. Identificación de valores atípicos (outliers):**\n",
    ">\n",
    ">- Se detectaron valores atípicos en ambos planes.\n",
    ">\n",
    ">- En el plan Surf, hay un outlier particularmente alejado de la tendencia general, lo que podría estar afectando los cálculos del consumo promedio.\n",
    ">\n",
    ">- Se recomienda realizar un análisis adicional excluyendo estos valores para evaluar su impacto en los resultados."
   ]
  },
  {
   "cell_type": "markdown",
   "metadata": {
    "id": "tCijq3260q1N"
   },
   "source": [
    "### 💵 **Ingreso**"
   ]
  },
  {
   "cell_type": "markdown",
   "metadata": {},
   "source": [
    "#### **Compara los ingresos mensuales para cada plan**"
   ]
  },
  {
   "cell_type": "code",
   "execution_count": 62,
   "metadata": {
    "id": "0Y1v8ZUz0q1P"
   },
   "outputs": [
    {
     "data": {
      "image/png": "[encoded data removed]",
      "text/plain": [
       "<Figure size 1000x300 with 1 Axes>"
      ]
     },
     "metadata": {},
     "output_type": "display_data"
    }
   ],
   "source": [
    "# Compara los ingresos mensuales para cada plan.\n",
    "income_month = (\n",
    "    user_monthly_summary\n",
    "    .groupby(by=['plan_name', 'month'])\n",
    "    .agg(total_income = ('total_pay','sum'))\n",
    "    .reset_index()\n",
    ")\n",
    "\n",
    "income_month_pivot = income_month.pivot_table(index='month', columns='plan_name', values='total_income')\n",
    "\n",
    "    # Graficando \n",
    "income_month_pivot.plot(\n",
    "    kind='bar',\n",
    "    title='INGRESO TOTAL POR MES',\n",
    "    xlabel='Mes',\n",
    "    ylabel='Ingreso total (USD)',\n",
    "    grid=True, figsize=[10,3]\n",
    ")\n",
    "\n",
    "plt.legend(\n",
    "    title='Nombre de plan',\n",
    "    fontsize=10,\n",
    "    title_fontsize=11\n",
    ")\n",
    "\n",
    "plt.show()\n"
   ]
  },
  {
   "cell_type": "markdown",
   "metadata": {},
   "source": [
    "#### **Compara los promedios de ingresos mensuales por cliente para cada plan**"
   ]
  },
  {
   "cell_type": "code",
   "execution_count": 63,
   "metadata": {},
   "outputs": [
    {
     "data": {
      "image/png": "[encoded data removed]",
      "text/plain": [
       "<Figure size 1000x300 with 1 Axes>"
      ]
     },
     "metadata": {},
     "output_type": "display_data"
    }
   ],
   "source": [
    "# Compara los promedios de ingresos mensuales por cliente para cada plan.\n",
    "income_mean_month = (\n",
    "    user_monthly_summary\n",
    "    .groupby(by=['plan_name', 'month'])\n",
    "    .agg(mean_income = ('total_pay','mean'))\n",
    "    .reset_index()\n",
    ")\n",
    "# Creando pivot table\n",
    "income_mean_month_pivot = (\n",
    "    income_mean_month.\n",
    "    pivot_table(\n",
    "        index='month',\n",
    "        columns='plan_name',\n",
    "        values='mean_income'\n",
    "    )\n",
    ")\n",
    "    # Graficando \n",
    "income_mean_month_pivot.plot(\n",
    "    kind='bar',\n",
    "    title='PROMEDIO DE INGRESOS POR USUARIO MES A MES',\n",
    "    xlabel='Mes',\n",
    "    ylabel='Ingreso por usuario (USD)',\n",
    "    grid=True,\n",
    "    figsize=[10,3]\n",
    ")\n",
    "\n",
    "plt.legend(\n",
    "    title='Nombre de plan',\n",
    "    fontsize=10,\n",
    "    title_fontsize=11,\n",
    "    loc='lower center'\n",
    ")\n",
    "\n",
    "plt.show()"
   ]
  },
  {
   "cell_type": "markdown",
   "metadata": {},
   "source": [
    "#### **Compara el ingreso al mes por usuarios por plan**"
   ]
  },
  {
   "cell_type": "code",
   "execution_count": 64,
   "metadata": {
    "id": "bYmwxyVh0q1P"
   },
   "outputs": [
    {
     "data": {
      "image/png": "[encoded data removed]",
      "text/plain": [
       "<Figure size 640x480 with 1 Axes>"
      ]
     },
     "metadata": {},
     "output_type": "display_data"
    }
   ],
   "source": [
    "# Compara el ingreso al mes por usuarios por plan. Traza un histograma.\n",
    "    # Graficando\n",
    "user_monthly_summary.query('plan_name == \"surf\"')['total_pay'].hist(alpha=0.7, label=\"Surf\", bins=15)\n",
    "user_monthly_summary.query('plan_name == \"ultimate\"')['total_pay'].hist(alpha=0.7, label=\"Ultimate\", bins=3)\n",
    "\n",
    "plt.title(\"Distribución de ingresos por plan\", fontsize=14)\n",
    "plt.xlabel(\"Ingreso (USD)\", fontsize=12)\n",
    "plt.ylabel(\"Frecuencia\", fontsize=12)\n",
    "plt.legend(title=\"Plan\", fontsize=10)\n",
    "plt.yticks()\n",
    "\n",
    "plt.show()"
   ]
  },
  {
   "cell_type": "markdown",
   "metadata": {},
   "source": [
    "#### **Promedio y varianza de los datos calculados para cada plan**"
   ]
  },
  {
   "cell_type": "code",
   "execution_count": 65,
   "metadata": {},
   "outputs": [
    {
     "name": "stdout",
     "output_type": "stream",
     "text": [
      ">>> Medias de ingresos por usuario mensual para cada plan:\n"
     ]
    },
    {
     "data": {
      "text/html": [
       "<div>\n",
       "<style scoped>\n",
       "    .dataframe tbody tr th:only-of-type {\n",
       "        vertical-align: middle;\n",
       "    }\n",
       "\n",
       "    .dataframe tbody tr th {\n",
       "        vertical-align: top;\n",
       "    }\n",
       "\n",
       "    .dataframe thead th {\n",
       "        text-align: right;\n",
       "    }\n",
       "</style>\n",
       "<table border=\"1\" class=\"dataframe\">\n",
       "  <thead>\n",
       "    <tr style=\"text-align: right;\">\n",
       "      <th></th>\n",
       "      <th>plan_name</th>\n",
       "      <th>income_mean</th>\n",
       "    </tr>\n",
       "  </thead>\n",
       "  <tbody>\n",
       "    <tr>\n",
       "      <th>0</th>\n",
       "      <td>surf</td>\n",
       "      <td>60.824544</td>\n",
       "    </tr>\n",
       "    <tr>\n",
       "      <th>1</th>\n",
       "      <td>ultimate</td>\n",
       "      <td>72.336606</td>\n",
       "    </tr>\n",
       "  </tbody>\n",
       "</table>\n",
       "</div>"
      ],
      "text/plain": [
       "  plan_name  income_mean\n",
       "0      surf    60.824544\n",
       "1  ultimate    72.336606"
      ]
     },
     "metadata": {},
     "output_type": "display_data"
    },
    {
     "name": "stdout",
     "output_type": "stream",
     "text": [
      ">>> Varianzas de ingresos por usuario mensual para cada plan:\n"
     ]
    },
    {
     "data": {
      "text/html": [
       "<div>\n",
       "<style scoped>\n",
       "    .dataframe tbody tr th:only-of-type {\n",
       "        vertical-align: middle;\n",
       "    }\n",
       "\n",
       "    .dataframe tbody tr th {\n",
       "        vertical-align: top;\n",
       "    }\n",
       "\n",
       "    .dataframe thead th {\n",
       "        text-align: right;\n",
       "    }\n",
       "</style>\n",
       "<table border=\"1\" class=\"dataframe\">\n",
       "  <thead>\n",
       "    <tr style=\"text-align: right;\">\n",
       "      <th></th>\n",
       "      <th>plan_name</th>\n",
       "      <th>income_var</th>\n",
       "      <th>income_std</th>\n",
       "    </tr>\n",
       "  </thead>\n",
       "  <tbody>\n",
       "    <tr>\n",
       "      <th>0</th>\n",
       "      <td>surf</td>\n",
       "      <td>2983.718722</td>\n",
       "      <td>54.623426</td>\n",
       "    </tr>\n",
       "    <tr>\n",
       "      <th>1</th>\n",
       "      <td>ultimate</td>\n",
       "      <td>135.698758</td>\n",
       "      <td>11.648981</td>\n",
       "    </tr>\n",
       "  </tbody>\n",
       "</table>\n",
       "</div>"
      ],
      "text/plain": [
       "  plan_name   income_var  income_std\n",
       "0      surf  2983.718722   54.623426\n",
       "1  ultimate   135.698758   11.648981"
      ]
     },
     "metadata": {},
     "output_type": "display_data"
    }
   ],
   "source": [
    "# Calcula la media y la varianza de ingreso por usuario mensual.\n",
    "    # Calculando la media de los ingreso por usuario mensual para cada plan.\n",
    "income_mean = (\n",
    "    user_monthly_summary\n",
    "    .groupby(by='plan_name', as_index=False)\n",
    "    .agg(income_mean=('total_pay', 'mean'))\n",
    ")\n",
    "\n",
    "print(\">>> Medias de ingresos por usuario mensual para cada plan:\")\n",
    "display(income_mean)\n",
    "\n",
    "    # Varianza de los ingresos por usuario mensual para cada plan.\n",
    "surf_income_var = np.var(user_monthly_summary.query('plan_name == \"surf\"')['total_pay'])\n",
    "ultimate_income_var = np.var(user_monthly_summary.query('plan_name == \"ultimate\"')['total_pay'])\n",
    "\n",
    "income_var = pd.DataFrame({\n",
    "    'plan_name':['surf', 'ultimate'],\n",
    "    'income_var':[surf_income_var, ultimate_income_var]\n",
    "})\n",
    "income_var['income_std'] = np.sqrt(income_var['income_var'])\n",
    "\n",
    "print(\">>> Varianzas de ingresos por usuario mensual para cada plan:\")\n",
    "display(income_var)"
   ]
  },
  {
   "cell_type": "code",
   "execution_count": 66,
   "metadata": {},
   "outputs": [
    {
     "data": {
      "image/png": "[encoded data removed]",
      "text/plain": [
       "<Figure size 640x480 with 1 Axes>"
      ]
     },
     "metadata": {},
     "output_type": "display_data"
    }
   ],
   "source": [
    "# Traza un diagrama de caja para visualizar la distribución de los ingresos por usuario mensual para cada plan.\n",
    "sns.boxplot(x='plan_name', y='total_pay', data=user_monthly_summary)\n",
    "\n",
    "    # Formateando\n",
    "plt.title(\"Distribución de ingresos por usuario al mes para cada plan\")\n",
    "plt.ylabel('USD')\n",
    "plt.xlabel('Nombre de plan')\n",
    "plt.grid()\n",
    "plt.show()"
   ]
  },
  {
   "cell_type": "code",
   "execution_count": 67,
   "metadata": {},
   "outputs": [
    {
     "name": "stdout",
     "output_type": "stream",
     "text": [
      "Número de pagos en plan ultimate:\n",
      "713\n",
      "Número de pagos en plan ultimate diferentes a $70:\n",
      "40\n"
     ]
    }
   ],
   "source": [
    "print(\"Número de pagos en plan ultimate:\")\n",
    "print(len(user_monthly_summary.query(\"plan_name == 'ultimate'\")))\n",
    "print(\"Número de pagos en plan ultimate diferentes a $70:\")\n",
    "print(len(user_monthly_summary.query(\"plan_name == 'ultimate' and total_pay != 70\")))"
   ]
  },
  {
   "cell_type": "markdown",
   "metadata": {
    "id": "KAFidcXZ0q1P"
   },
   "source": [
    "#### **Análisis de ingresos para la empresa:**\n"
   ]
  },
  {
   "cell_type": "markdown",
   "metadata": {},
   "source": [
    ">**1. Ingresos totales mes a mes por plan:**\n",
    ">\n",
    ">- Los ingresos totales han seguido una tendencia ascendente a lo largo del año.\n",
    ">\n",
    ">- El plan Surf genera significativamente más ingresos para la empresa que el plan Ultimate, debido a la mayor cantidad de usuarios en este plan.\n",
    "\n",
    ">**2. Ingresos promedio por usuario mes a mes:**\n",
    ">\n",
    ">- A nivel individual, el plan Ultimate genera más ingresos por usuario en comparación con el plan Surf.\n",
    ">\n",
    ">- Los ingresos promedio por usuario en el plan Ultimate se mantienen estables durante todo el año.\n",
    ">\n",
    ">- En el plan Surf, se observa una tendencia ascendente en los ingresos promedio por usuario, hasta casi igualar los del plan Ultimate. Esto sugiere que en los próximos meses el plan Surf podría superar a Ultimate en este parámetro.\n",
    "\n",
    ">**3. Distribución del ingreso mensual por usuario:**\n",
    ">\n",
    ">- En el plan Surf, el ingreso mensual más común por usuario se encuentra entre $20 y $60 USD.\n",
    ">\n",
    ">- En el plan Ultimate, el rango más frecuente de ingreso mensual por usuario está entre $70 y $105 USD.\n",
    ">\n",
    ">- A lo largo del año, los clientes con el plan Ultimate han generado más ingresos por usuario para la empresa.\n",
    "\n",
    ">**4. Media y varianza del ingreso mensual por usuario:**\n",
    ">\n",
    ">- En promedio, los usuarios del plan Ultimate generan más ingresos que los del plan Surf:\n",
    "\n",
    ">Surf: $60.82 USD / Ultimate: $72.34 USD\n",
    ">\n",
    ">- La varianza en los ingresos mensuales por usuario es considerablemente mayor en el plan Surf, lo que indica una mayor dispersión en los valores:\n",
    "\n",
    ">Surf: 2,983.72 / Ultimate: 135.70\n",
    ">\n",
    ">- Esta diferencia sugiere que mientras los ingresos por usuario en Ultimate son más uniformes, en Surf los ingresos por usuario varían mucho más entre clientes.\n",
    "\n",
    ">**5. Identificación de valores atípicos (outliers):**\n",
    ">\n",
    ">- Existen valores atípicos en ambos planes.\n",
    ">\n",
    ">- En el plan Ultimate, la caja en el diagrama de caja es prácticamente imperceptible. Esto se debe a que en la mayoría de los casos, la tarifa mensual es de $70 USD, con pocas variaciones.\n",
    ">\n",
    ">- De las 713 facturas del plan Ultimate, solo en 40 ocasiones la tarifa fue diferente a $70 USD. Por esta razón, aunque los valores considerados outliers no se alejan mucho de $70, aparecen como atípicos debido a la baja dispersión de los datos.\n",
    ">\n",
    ">- En el plan Surf, aunque la tarifa base es de $20 USD, muy frecuentemente se supera este valor. Sin embargo, también se presentan varios outliers en los ingresos por usuario."
   ]
  },
  {
   "cell_type": "markdown",
   "metadata": {
    "id": "ajJ7VKeI0q1Q"
   },
   "source": [
    "## ⚖️**Prueba las hipótesis estadísticas** (REVISAR)\n",
    "---"
   ]
  },
  {
   "cell_type": "markdown",
   "metadata": {},
   "source": [
    "### **Prueba**1️⃣"
   ]
  },
  {
   "cell_type": "markdown",
   "metadata": {},
   "source": [
    "⚪**Hipótesis Nula:**\n",
    "\n",
    "*\"No hay diferencia entre los ingresos promedio procedentes de los usuarios de los planes Ultimate y Surf\"*\n",
    "\n",
    "🟢**Hipótesis alternativa:**\n",
    "\n",
    "*\"Los ingresos promedio procedentes de los usuarios del plan Ultimate son diferentes a los procedentes de los usuarios del plan Surf\"*"
   ]
  },
  {
   "cell_type": "code",
   "execution_count": 68,
   "metadata": {
    "id": "nFoPNlPq0q1R"
   },
   "outputs": [],
   "source": [
    "# Prueba las hipótesis\n",
    "    # Filtrando datos por plan\n",
    "surf_income = ( # Ingresos por usuario del plan surf\n",
    "    user_monthly_summary\n",
    "    .query('plan_name == \"surf\"')\n",
    "    .groupby(by=['user_id','month'])\n",
    "    .agg({'total_pay':'mean'})\n",
    "    .reset_index()\n",
    ") \n",
    "\n",
    "ultimate_income = ( # Ingresos por usuario del plan ultimate\n",
    "    user_monthly_summary\n",
    "    .query('plan_name == \"ultimate\"')\n",
    "    .groupby(by=['user_id','month'])\n",
    "    .agg({'total_pay':'mean'})\n",
    "    .reset_index()\n",
    ") \n"
   ]
  },
  {
   "cell_type": "code",
   "execution_count": 69,
   "metadata": {},
   "outputs": [
    {
     "name": "stdout",
     "output_type": "stream",
     "text": [
      "p_value: 4.747242597268979e-15\n",
      "RESULTADO: Se rechaza la hipótesis nula. Existe diferencia significativa.\n"
     ]
    }
   ],
   "source": [
    "    # Estableciendo valor de significancia estadística\n",
    "alpha = 0.05\n",
    "\n",
    "    # Realizando prueba de hipótesis con ttest_ind() debido a que se trata de población vs población\n",
    "resultado = stats.ttest_ind(ultimate_income['total_pay'], surf_income['total_pay'], equal_var=False)\n",
    "\n",
    "    # Evaluando p_value\n",
    "print(f\"p_value: {resultado.pvalue}\")\n",
    "\n",
    "if resultado.pvalue < alpha:\n",
    "    print('RESULTADO: Se rechaza la hipótesis nula. Existe diferencia significativa.')\n",
    "else:\n",
    "    print('RESULTADO: No se puede rechazar la hipótesis nula.')\n"
   ]
  },
  {
   "cell_type": "markdown",
   "metadata": {},
   "source": [
    "### **Prueba**2️⃣"
   ]
  },
  {
   "cell_type": "markdown",
   "metadata": {},
   "source": [
    "⚪**Hipótesis Nula:**\n",
    "\n",
    "*\"No hay diferencia entre los ingresos promedio de los usuarios del área NY-NJ y los usuarios de otras regiones\"*\n",
    "\n",
    "🟢**Hipótesis alternativa:**\n",
    "\n",
    "*\"Los ingresos promedio procedentes de los usuarios del área NY-NJ son diferentes a los procedentes de otras regiones\"*"
   ]
  },
  {
   "cell_type": "code",
   "execution_count": 79,
   "metadata": {
    "id": "Cqcj7wrZ0q1S"
   },
   "outputs": [],
   "source": [
    "# Prueba las hipótesis\n",
    "user_mean_income = ( # \n",
    "    user_monthly_summary\n",
    "    .groupby(by=['user_id','month'])\n",
    "    .agg({'total_pay':'mean'})\n",
    "    .reset_index()\n",
    ")\n",
    "\n",
    "user_mean_income_zone = ( # Merge de ingreso promedio por cliente con zona\n",
    "    user_mean_income\n",
    "    .merge(users[['user_id', 'zone']], on='user_id')\n",
    ") \n",
    "\n",
    "    # Filtrando datos por zona\n",
    "nynj_income = user_mean_income_zone.query(\"zone == 'NY-NJ-PA MSA'\") # Ingreso promedio por usuario en la zona NY-NJ-PA MSA\n",
    "not_nynj_income = user_mean_income_zone.query(\"zone != 'NY-NJ-PA MSA'\") # Ingreso promedio por usuario en otras zonas\n"
   ]
  },
  {
   "cell_type": "code",
   "execution_count": 80,
   "metadata": {},
   "outputs": [
    {
     "name": "stdout",
     "output_type": "stream",
     "text": [
      "p_value: 0.014993669733508389\n",
      "RESULTADO: Se rechaza la hipótesis nula.\n"
     ]
    }
   ],
   "source": [
    "    # Estableciendo valor de significancia estadística\n",
    "alpha = 0.05\n",
    "\n",
    "    # Realizando prueba de hipótesis con ttest_ind() debido a que se trata de población vs población\n",
    "resultado = stats.ttest_ind(nynj_income['total_pay'], not_nynj_income['total_pay'], equal_var=False)\n",
    "\n",
    "    # Evaluando p_value\n",
    "print(f\"p_value: {resultado.pvalue}\")\n",
    "\n",
    "if resultado.pvalue < alpha:\n",
    "    print('RESULTADO: Se rechaza la hipótesis nula.')\n",
    "else:\n",
    "    print('RESULTADO: No se puede rechazar la hipótesis nula.')\n"
   ]
  },
  {
   "cell_type": "markdown",
   "metadata": {},
   "source": [
    "### 🧠 **Conclusiones:**"
   ]
  },
  {
   "cell_type": "markdown",
   "metadata": {},
   "source": [
    ">- El plan Surf genera significativamente más ingresos para la empresa que el plan Ultimate, esto puede ser debido a la mayor cantidad de usuarios en este plan.\n",
    ">\n",
    ">- A nivel individual, el plan Ultimate genera más ingresos por usuario en comparación con el plan Surf.\n",
    ">\n",
    ">- En el plan Surf, se observa una tendencia ascendente en los ingresos promedio por usuario, hasta casi igualar los del plan Ultimate. Esto sugiere que en los próximos meses el plan Surf podría superar a Ultimate en este parámetro.\n",
    ">\n",
    ">- En promedio, los usuarios del plan Ultimate generan más ingresos que los del plan Surf [Ultimate: $72.34 USD / Surf: $60.82 USD].\n",
    ">\n",
    ">- La varianza en los ingresos mensuales por usuario es considerablemente mayor en el plan Surf, lo que indica una mayor dispersión en los valores.\n",
    ">\n",
    ">- Esta diferencia sugiere que mientras los ingresos por usuario en Ultimate son más uniformes, en Surf los ingresos por usuario varían mucho más entre clientes.\n",
    ">\n",
    ">- Se concluye que los usuarios del plan Ultimate rara vez superan los servicios incluidos en su cuota base, mientras que los del plan Surf lo hacen con frecuencia.\n",
    ">\n",
    ">- Después de realizar una prueba de hipótesis, se concluye que la hipótesis nula que indica que *\"No hay diferencia entre los ingresos promedio procedentes de los usuarios de los planes Ultimate y Surf\"* debe ser rechazada y por lo tanto si hay diferencia entre los ingresos promedio procedentes de los usuarios de los planes Ultimate y Surf.\n",
    ">\n",
    ">- Después de realizar una prueba de hipótesis, se concluye que la hipótesis nula que indica que *\"No hay diferencia entre los ingresos promedio de los usuarios del área NY-NJ y los usuarios de otras regiones\"* debe ser rechazada y por lo tanto lo usuarios de esta zona tienen un comportamiento diferente al resto."
   ]
  }
 ],
 "metadata": {
  "ExecuteTimeLog": [
   {
    "duration": 828,
    "start_time": "2021-11-16T09:21:11.304Z"
   },
   {
    "duration": 893,
    "start_time": "2021-11-16T09:21:17.728Z"
   },
   {
    "duration": 1150,
    "start_time": "2021-11-16T09:21:29.568Z"
   },
   {
    "duration": 3,
    "start_time": "2021-11-16T09:24:14.495Z"
   },
   {
    "duration": 120,
    "start_time": "2021-11-16T09:24:46.630Z"
   },
   {
    "duration": 3,
    "start_time": "2021-11-16T09:28:27.882Z"
   },
   {
    "duration": 4,
    "start_time": "2021-11-16T09:29:54.281Z"
   },
   {
    "duration": 3,
    "start_time": "2021-11-16T09:30:45.936Z"
   },
   {
    "duration": 4,
    "start_time": "2021-11-16T09:31:06.300Z"
   },
   {
    "duration": 113,
    "start_time": "2021-11-16T09:31:37.208Z"
   },
   {
    "duration": 143,
    "start_time": "2021-11-16T09:31:48.656Z"
   },
   {
    "duration": 98,
    "start_time": "2021-11-16T09:31:55.678Z"
   },
   {
    "duration": 3,
    "start_time": "2021-11-16T09:32:08.535Z"
   },
   {
    "duration": 111,
    "start_time": "2021-11-16T09:32:10.120Z"
   },
   {
    "duration": 3,
    "start_time": "2021-11-16T09:32:15.732Z"
   },
   {
    "duration": 4,
    "start_time": "2021-11-16T09:32:29.423Z"
   },
   {
    "duration": 3,
    "start_time": "2021-11-16T10:03:03.074Z"
   },
   {
    "duration": 3,
    "start_time": "2021-11-16T10:10:01.288Z"
   },
   {
    "duration": 3,
    "start_time": "2021-11-16T10:10:46.923Z"
   },
   {
    "duration": 121,
    "start_time": "2021-11-16T10:37:46.494Z"
   },
   {
    "duration": 125,
    "start_time": "2021-11-16T10:38:20.632Z"
   },
   {
    "duration": 112,
    "start_time": "2021-11-16T10:46:53.001Z"
   },
   {
    "duration": 110,
    "start_time": "2021-11-16T10:48:25.775Z"
   },
   {
    "duration": 3,
    "start_time": "2021-11-16T10:50:18.720Z"
   },
   {
    "duration": 4,
    "start_time": "2021-11-16T10:50:37.649Z"
   },
   {
    "duration": 2,
    "start_time": "2021-11-16T10:50:51.884Z"
   },
   {
    "duration": 3,
    "start_time": "2021-11-16T10:51:56.237Z"
   },
   {
    "duration": 101,
    "start_time": "2021-11-16T10:53:13.791Z"
   },
   {
    "duration": 3,
    "start_time": "2021-11-16T10:55:59.186Z"
   },
   {
    "duration": 3,
    "start_time": "2021-11-16T10:56:10.751Z"
   },
   {
    "duration": 3,
    "start_time": "2021-11-16T10:56:49.038Z"
   },
   {
    "duration": 3,
    "start_time": "2021-11-16T10:56:49.174Z"
   },
   {
    "duration": 4,
    "start_time": "2021-11-16T10:56:49.414Z"
   },
   {
    "duration": 3,
    "start_time": "2021-11-16T10:56:49.680Z"
   },
   {
    "duration": 3,
    "start_time": "2021-11-16T10:56:50.370Z"
   },
   {
    "duration": 114,
    "start_time": "2021-11-16T10:59:34.518Z"
   },
   {
    "duration": 3,
    "start_time": "2021-11-16T11:01:41.201Z"
   },
   {
    "duration": 116,
    "start_time": "2021-11-16T11:01:48.754Z"
   },
   {
    "duration": 3,
    "start_time": "2021-11-16T11:02:16.685Z"
   },
   {
    "duration": 3,
    "start_time": "2021-11-16T11:02:19.479Z"
   },
   {
    "duration": 3,
    "start_time": "2021-11-16T11:02:47.067Z"
   },
   {
    "duration": 3,
    "start_time": "2021-11-16T11:02:49.353Z"
   },
   {
    "duration": 3,
    "start_time": "2021-11-16T11:03:07.835Z"
   },
   {
    "duration": 3,
    "start_time": "2021-11-16T11:03:07.953Z"
   },
   {
    "duration": 112,
    "start_time": "2021-11-16T11:07:52.072Z"
   },
   {
    "duration": 187,
    "start_time": "2021-11-16T11:09:23.468Z"
   },
   {
    "duration": 4,
    "start_time": "2021-11-16T11:10:01.455Z"
   },
   {
    "duration": 3,
    "start_time": "2021-11-16T11:10:05.069Z"
   },
   {
    "duration": 4,
    "start_time": "2021-11-16T11:10:13.376Z"
   },
   {
    "duration": 3,
    "start_time": "2021-11-16T11:10:14.434Z"
   },
   {
    "duration": 3,
    "start_time": "2021-11-16T11:10:22.853Z"
   },
   {
    "duration": 4,
    "start_time": "2021-11-16T11:27:29.279Z"
   },
   {
    "duration": 4,
    "start_time": "2021-11-16T11:29:08.919Z"
   },
   {
    "duration": 118,
    "start_time": "2021-11-16T11:29:46.703Z"
   },
   {
    "duration": 437,
    "start_time": "2021-11-16T11:36:02.181Z"
   },
   {
    "duration": 157,
    "start_time": "2021-11-16T11:36:14.388Z"
   },
   {
    "duration": 207,
    "start_time": "2021-11-16T11:47:15.898Z"
   },
   {
    "duration": 3,
    "start_time": "2021-11-16T11:53:52.092Z"
   },
   {
    "duration": 3,
    "start_time": "2021-11-16T11:53:52.236Z"
   },
   {
    "duration": 3,
    "start_time": "2021-11-16T11:59:12.005Z"
   },
   {
    "duration": 112,
    "start_time": "2021-11-16T12:00:33.446Z"
   },
   {
    "duration": 3,
    "start_time": "2021-11-16T12:02:14.453Z"
   },
   {
    "duration": 3,
    "start_time": "2021-11-16T12:02:39.512Z"
   },
   {
    "duration": 106,
    "start_time": "2021-11-16T12:03:03.460Z"
   },
   {
    "duration": 3,
    "start_time": "2021-11-17T20:37:21.139Z"
   },
   {
    "duration": 3,
    "start_time": "2021-11-17T20:37:22.229Z"
   },
   {
    "duration": 3,
    "start_time": "2021-11-17T20:38:38.806Z"
   },
   {
    "duration": 3,
    "start_time": "2021-11-17T20:38:41.958Z"
   },
   {
    "duration": 3,
    "start_time": "2021-11-17T20:43:46.551Z"
   },
   {
    "duration": 4,
    "start_time": "2021-11-17T20:58:21.835Z"
   },
   {
    "duration": 3,
    "start_time": "2021-11-17T20:59:21.872Z"
   },
   {
    "duration": 4,
    "start_time": "2021-11-17T20:59:45.352Z"
   },
   {
    "duration": 4,
    "start_time": "2021-11-17T20:59:49.646Z"
   },
   {
    "duration": 159,
    "start_time": "2021-11-17T21:02:26.949Z"
   },
   {
    "duration": 3,
    "start_time": "2021-11-17T21:03:53.461Z"
   },
   {
    "duration": 3,
    "start_time": "2021-11-17T21:03:53.694Z"
   },
   {
    "duration": 3,
    "start_time": "2021-11-17T21:05:28.145Z"
   },
   {
    "duration": 116,
    "start_time": "2021-11-17T21:05:57.787Z"
   },
   {
    "duration": 3,
    "start_time": "2021-11-17T21:06:37.993Z"
   },
   {
    "duration": 3,
    "start_time": "2021-11-17T21:06:38.261Z"
   },
   {
    "duration": 3,
    "start_time": "2021-11-17T21:11:54.358Z"
   },
   {
    "duration": 3,
    "start_time": "2021-11-17T21:12:43.846Z"
   },
   {
    "duration": 4,
    "start_time": "2021-11-17T21:13:08.773Z"
   },
   {
    "duration": 3,
    "start_time": "2021-11-17T21:14:44.441Z"
   },
   {
    "duration": 3,
    "start_time": "2021-11-17T21:15:42.059Z"
   },
   {
    "duration": 4,
    "start_time": "2021-11-17T21:15:51.995Z"
   },
   {
    "duration": 3,
    "start_time": "2021-11-17T21:15:53.923Z"
   },
   {
    "duration": 3,
    "start_time": "2021-11-17T21:15:55.282Z"
   },
   {
    "duration": 3,
    "start_time": "2021-11-17T21:16:28.492Z"
   },
   {
    "duration": 3,
    "start_time": "2021-11-17T21:16:32.603Z"
   },
   {
    "duration": 3,
    "start_time": "2021-11-17T21:17:06.941Z"
   },
   {
    "duration": 98,
    "start_time": "2021-11-17T21:18:05.733Z"
   },
   {
    "duration": 4,
    "start_time": "2021-11-17T21:21:35.255Z"
   },
   {
    "duration": 3,
    "start_time": "2021-11-17T21:21:37.804Z"
   },
   {
    "duration": 4,
    "start_time": "2021-11-17T21:23:06.071Z"
   },
   {
    "duration": 3,
    "start_time": "2021-11-17T21:23:24.799Z"
   },
   {
    "duration": 3,
    "start_time": "2021-11-17T21:23:32.591Z"
   },
   {
    "duration": 98,
    "start_time": "2021-11-17T21:28:31.559Z"
   },
   {
    "duration": 3,
    "start_time": "2021-11-17T21:28:45.448Z"
   },
   {
    "duration": 3,
    "start_time": "2021-11-17T21:29:17.303Z"
   },
   {
    "duration": 3,
    "start_time": "2021-11-17T21:29:29.617Z"
   },
   {
    "duration": 3,
    "start_time": "2021-11-17T21:29:32.681Z"
   },
   {
    "duration": 3,
    "start_time": "2021-11-17T21:36:11.474Z"
   },
   {
    "duration": 3,
    "start_time": "2021-11-17T21:36:14.791Z"
   },
   {
    "duration": 3,
    "start_time": "2021-11-17T21:36:53.943Z"
   },
   {
    "duration": 3,
    "start_time": "2021-11-17T21:36:56.165Z"
   },
   {
    "duration": 4,
    "start_time": "2021-11-17T21:37:16.590Z"
   },
   {
    "duration": 3,
    "start_time": "2021-11-17T21:37:22.702Z"
   },
   {
    "duration": 4,
    "start_time": "2021-11-17T21:38:03.479Z"
   },
   {
    "duration": 3,
    "start_time": "2021-11-17T21:38:08.601Z"
   },
   {
    "duration": 3,
    "start_time": "2021-11-17T21:38:12.928Z"
   },
   {
    "duration": 3,
    "start_time": "2021-11-17T21:38:48.896Z"
   },
   {
    "duration": 2,
    "start_time": "2021-11-17T21:38:49.171Z"
   },
   {
    "duration": 4,
    "start_time": "2021-11-17T21:39:57.889Z"
   },
   {
    "duration": 3,
    "start_time": "2021-11-17T21:39:58.057Z"
   },
   {
    "duration": 3,
    "start_time": "2021-11-17T21:41:20.108Z"
   },
   {
    "duration": 3,
    "start_time": "2021-11-17T21:41:20.629Z"
   },
   {
    "duration": 3,
    "start_time": "2021-11-17T21:42:49.136Z"
   },
   {
    "duration": 3,
    "start_time": "2021-11-17T21:43:15.137Z"
   },
   {
    "duration": 4,
    "start_time": "2021-11-17T21:43:16.766Z"
   },
   {
    "duration": 4,
    "start_time": "2021-11-17T21:43:31.711Z"
   },
   {
    "duration": 3,
    "start_time": "2021-11-17T21:43:36.312Z"
   },
   {
    "duration": 4,
    "start_time": "2021-11-17T21:45:08.825Z"
   },
   {
    "duration": 4,
    "start_time": "2021-11-17T21:45:10.119Z"
   },
   {
    "duration": 4,
    "start_time": "2021-11-17T21:45:13.748Z"
   },
   {
    "duration": 3,
    "start_time": "2021-11-17T21:45:22.219Z"
   },
   {
    "duration": 3,
    "start_time": "2021-11-17T21:45:33.412Z"
   },
   {
    "duration": 2,
    "start_time": "2021-11-17T21:46:01.885Z"
   },
   {
    "duration": 3,
    "start_time": "2021-11-17T21:46:03.628Z"
   },
   {
    "duration": 107,
    "start_time": "2021-11-17T21:47:32.512Z"
   },
   {
    "duration": 103,
    "start_time": "2021-11-17T21:50:36.243Z"
   },
   {
    "duration": 3,
    "start_time": "2021-11-18T06:28:31.440Z"
   },
   {
    "duration": 3,
    "start_time": "2021-11-18T06:29:00.168Z"
   },
   {
    "duration": 3,
    "start_time": "2021-11-18T06:31:27.008Z"
   },
   {
    "duration": 2,
    "start_time": "2021-11-18T06:35:34.288Z"
   },
   {
    "duration": 2,
    "start_time": "2021-11-18T06:38:04.527Z"
   }
  ],
  "colab": {
   "provenance": []
  },
  "kernelspec": {
   "display_name": "Python 3",
   "language": "python",
   "name": "python3"
  },
  "language_info": {
   "codemirror_mode": {
    "name": "ipython",
    "version": 3
   },
   "file_extension": ".py",
   "mimetype": "text/x-python",
   "name": "python",
   "nbconvert_exporter": "python",
   "pygments_lexer": "ipython3",
   "version": "3.13.3"
  },
  "toc": {
   "base_numbering": 1,
   "nav_menu": {},
   "number_sections": true,
   "sideBar": true,
   "skip_h1_title": false,
   "title_cell": "Table of Contents",
   "title_sidebar": "Contents",
   "toc_cell": false,
   "toc_position": {},
   "toc_section_display": true,
   "toc_window_display": false
  }
 },
 "nbformat": 4,
 "nbformat_minor": 1
}
